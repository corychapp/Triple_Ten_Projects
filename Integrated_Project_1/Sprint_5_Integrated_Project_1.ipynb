{
 "cells": [
  {
   "cell_type": "code",
   "execution_count": 1,
   "id": "423e8dad",
   "metadata": {},
   "outputs": [],
   "source": [
    "import pandas as pd\n",
    "from matplotlib import pyplot as plt\n",
    "import numpy as np\n",
    "import scipy.stats as stats\n"
   ]
  },
  {
   "cell_type": "code",
   "execution_count": 2,
   "id": "f2b957bb",
   "metadata": {
    "scrolled": true
   },
   "outputs": [],
   "source": [
    "try:\n",
    "    df = pd.read_csv('/datasets/games.csv')\n",
    "except:\n",
    "    df = pd.read_csv('Datasets/moved_games.csv')"
   ]
  },
  {
   "cell_type": "code",
   "execution_count": 3,
   "id": "308a0feb",
   "metadata": {},
   "outputs": [
    {
     "data": {
      "text/plain": [
       "(16715, 11)"
      ]
     },
     "execution_count": 3,
     "metadata": {},
     "output_type": "execute_result"
    }
   ],
   "source": [
    "df.shape"
   ]
  },
  {
   "cell_type": "code",
   "execution_count": 4,
   "id": "c7c2a714",
   "metadata": {},
   "outputs": [
    {
     "data": {
      "text/plain": [
       "Index(['Name', 'Platform', 'Year_of_Release', 'Genre', 'NA_sales', 'EU_sales',\n",
       "       'JP_sales', 'Other_sales', 'Critic_Score', 'User_Score', 'Rating'],\n",
       "      dtype='object')"
      ]
     },
     "execution_count": 4,
     "metadata": {},
     "output_type": "execute_result"
    }
   ],
   "source": [
    "df.columns"
   ]
  },
  {
   "cell_type": "code",
   "execution_count": 5,
   "id": "2e77f2f5",
   "metadata": {},
   "outputs": [],
   "source": [
    "df = df.rename(columns={\n",
    "    'Name':'name', \n",
    "    'Platform':'platform', \n",
    "    'Year_of_Release':'year_of_release',\n",
    "    'Genre':'genre',\n",
    "    'NA_sales':'na_sales', \n",
    "    'EU_sales':'eu_sales', \n",
    "    'JP_sales':'jp_sales',\n",
    "    'Other_sales':'other_sales',\n",
    "    'Critic_Score':'critic_score',\n",
    "    'User_Score':'user_score',\n",
    "    'Rating':'rating',\n",
    "})"
   ]
  },
  {
   "cell_type": "code",
   "execution_count": 6,
   "id": "f66ff7cb",
   "metadata": {
    "scrolled": true
   },
   "outputs": [
    {
     "data": {
      "text/plain": [
       "Index(['name', 'platform', 'year_of_release', 'genre', 'na_sales', 'eu_sales',\n",
       "       'jp_sales', 'other_sales', 'critic_score', 'user_score', 'rating'],\n",
       "      dtype='object')"
      ]
     },
     "execution_count": 6,
     "metadata": {},
     "output_type": "execute_result"
    }
   ],
   "source": [
    "df.columns"
   ]
  },
  {
   "cell_type": "code",
   "execution_count": 7,
   "id": "1b02b6e9",
   "metadata": {},
   "outputs": [
    {
     "name": "stdout",
     "output_type": "stream",
     "text": [
      "<class 'pandas.core.frame.DataFrame'>\n",
      "RangeIndex: 16715 entries, 0 to 16714\n",
      "Data columns (total 11 columns):\n",
      " #   Column           Non-Null Count  Dtype  \n",
      "---  ------           --------------  -----  \n",
      " 0   name             16713 non-null  object \n",
      " 1   platform         16715 non-null  object \n",
      " 2   year_of_release  16446 non-null  float64\n",
      " 3   genre            16713 non-null  object \n",
      " 4   na_sales         16715 non-null  float64\n",
      " 5   eu_sales         16715 non-null  float64\n",
      " 6   jp_sales         16715 non-null  float64\n",
      " 7   other_sales      16715 non-null  float64\n",
      " 8   critic_score     8137 non-null   float64\n",
      " 9   user_score       10014 non-null  object \n",
      " 10  rating           9949 non-null   object \n",
      "dtypes: float64(6), object(5)\n",
      "memory usage: 1.4+ MB\n"
     ]
    }
   ],
   "source": [
    "df.info()"
   ]
  },
  {
   "cell_type": "code",
   "execution_count": 8,
   "id": "90d5f2ff",
   "metadata": {},
   "outputs": [
    {
     "data": {
      "text/plain": [
       "array([2006., 1985., 2008., 2009., 1996., 1989., 1984., 2005., 1999.,\n",
       "       2007., 2010., 2013., 2004., 1990., 1988., 2002., 2001., 2011.,\n",
       "       1998., 2015., 2012., 2014., 1992., 1997., 1993., 1994., 1982.,\n",
       "       2016., 2003., 1986., 2000.,   nan, 1995., 1991., 1981., 1987.,\n",
       "       1980., 1983.])"
      ]
     },
     "execution_count": 8,
     "metadata": {},
     "output_type": "execute_result"
    }
   ],
   "source": [
    "df['year_of_release'].unique()"
   ]
  },
  {
   "cell_type": "code",
   "execution_count": 9,
   "id": "c3ed33f1",
   "metadata": {},
   "outputs": [],
   "source": [
    "df = df.dropna(subset=['name','year_of_release'])"
   ]
  },
  {
   "cell_type": "code",
   "execution_count": 10,
   "id": "b5f40d1c",
   "metadata": {},
   "outputs": [
    {
     "data": {
      "text/plain": [
       "0"
      ]
     },
     "execution_count": 10,
     "metadata": {},
     "output_type": "execute_result"
    }
   ],
   "source": [
    "df['year_of_release'].isna().sum()"
   ]
  },
  {
   "cell_type": "code",
   "execution_count": 11,
   "id": "07298c56",
   "metadata": {
    "scrolled": true
   },
   "outputs": [],
   "source": [
    "df['year_of_release'] = df['year_of_release'].astype('int')"
   ]
  },
  {
   "cell_type": "code",
   "execution_count": 12,
   "id": "e2d324f7",
   "metadata": {},
   "outputs": [
    {
     "data": {
      "text/html": [
       "<div>\n",
       "<style scoped>\n",
       "    .dataframe tbody tr th:only-of-type {\n",
       "        vertical-align: middle;\n",
       "    }\n",
       "\n",
       "    .dataframe tbody tr th {\n",
       "        vertical-align: top;\n",
       "    }\n",
       "\n",
       "    .dataframe thead th {\n",
       "        text-align: right;\n",
       "    }\n",
       "</style>\n",
       "<table border=\"1\" class=\"dataframe\">\n",
       "  <thead>\n",
       "    <tr style=\"text-align: right;\">\n",
       "      <th></th>\n",
       "      <th>name</th>\n",
       "      <th>platform</th>\n",
       "      <th>year_of_release</th>\n",
       "      <th>genre</th>\n",
       "      <th>na_sales</th>\n",
       "      <th>eu_sales</th>\n",
       "      <th>jp_sales</th>\n",
       "      <th>other_sales</th>\n",
       "      <th>critic_score</th>\n",
       "      <th>user_score</th>\n",
       "      <th>rating</th>\n",
       "    </tr>\n",
       "  </thead>\n",
       "  <tbody>\n",
       "    <tr>\n",
       "      <th>0</th>\n",
       "      <td>Wii Sports</td>\n",
       "      <td>Wii</td>\n",
       "      <td>2006</td>\n",
       "      <td>Sports</td>\n",
       "      <td>41.36</td>\n",
       "      <td>28.96</td>\n",
       "      <td>3.77</td>\n",
       "      <td>8.45</td>\n",
       "      <td>76.0</td>\n",
       "      <td>8</td>\n",
       "      <td>E</td>\n",
       "    </tr>\n",
       "    <tr>\n",
       "      <th>1</th>\n",
       "      <td>Super Mario Bros.</td>\n",
       "      <td>NES</td>\n",
       "      <td>1985</td>\n",
       "      <td>Platform</td>\n",
       "      <td>29.08</td>\n",
       "      <td>3.58</td>\n",
       "      <td>6.81</td>\n",
       "      <td>0.77</td>\n",
       "      <td>NaN</td>\n",
       "      <td>NaN</td>\n",
       "      <td>NaN</td>\n",
       "    </tr>\n",
       "    <tr>\n",
       "      <th>2</th>\n",
       "      <td>Mario Kart Wii</td>\n",
       "      <td>Wii</td>\n",
       "      <td>2008</td>\n",
       "      <td>Racing</td>\n",
       "      <td>15.68</td>\n",
       "      <td>12.76</td>\n",
       "      <td>3.79</td>\n",
       "      <td>3.29</td>\n",
       "      <td>82.0</td>\n",
       "      <td>8.3</td>\n",
       "      <td>E</td>\n",
       "    </tr>\n",
       "    <tr>\n",
       "      <th>3</th>\n",
       "      <td>Wii Sports Resort</td>\n",
       "      <td>Wii</td>\n",
       "      <td>2009</td>\n",
       "      <td>Sports</td>\n",
       "      <td>15.61</td>\n",
       "      <td>10.93</td>\n",
       "      <td>3.28</td>\n",
       "      <td>2.95</td>\n",
       "      <td>80.0</td>\n",
       "      <td>8</td>\n",
       "      <td>E</td>\n",
       "    </tr>\n",
       "    <tr>\n",
       "      <th>4</th>\n",
       "      <td>Pokemon Red/Pokemon Blue</td>\n",
       "      <td>GB</td>\n",
       "      <td>1996</td>\n",
       "      <td>Role-Playing</td>\n",
       "      <td>11.27</td>\n",
       "      <td>8.89</td>\n",
       "      <td>10.22</td>\n",
       "      <td>1.00</td>\n",
       "      <td>NaN</td>\n",
       "      <td>NaN</td>\n",
       "      <td>NaN</td>\n",
       "    </tr>\n",
       "    <tr>\n",
       "      <th>5</th>\n",
       "      <td>Tetris</td>\n",
       "      <td>GB</td>\n",
       "      <td>1989</td>\n",
       "      <td>Puzzle</td>\n",
       "      <td>23.20</td>\n",
       "      <td>2.26</td>\n",
       "      <td>4.22</td>\n",
       "      <td>0.58</td>\n",
       "      <td>NaN</td>\n",
       "      <td>NaN</td>\n",
       "      <td>NaN</td>\n",
       "    </tr>\n",
       "    <tr>\n",
       "      <th>6</th>\n",
       "      <td>New Super Mario Bros.</td>\n",
       "      <td>DS</td>\n",
       "      <td>2006</td>\n",
       "      <td>Platform</td>\n",
       "      <td>11.28</td>\n",
       "      <td>9.14</td>\n",
       "      <td>6.50</td>\n",
       "      <td>2.88</td>\n",
       "      <td>89.0</td>\n",
       "      <td>8.5</td>\n",
       "      <td>E</td>\n",
       "    </tr>\n",
       "    <tr>\n",
       "      <th>7</th>\n",
       "      <td>Wii Play</td>\n",
       "      <td>Wii</td>\n",
       "      <td>2006</td>\n",
       "      <td>Misc</td>\n",
       "      <td>13.96</td>\n",
       "      <td>9.18</td>\n",
       "      <td>2.93</td>\n",
       "      <td>2.84</td>\n",
       "      <td>58.0</td>\n",
       "      <td>6.6</td>\n",
       "      <td>E</td>\n",
       "    </tr>\n",
       "    <tr>\n",
       "      <th>8</th>\n",
       "      <td>New Super Mario Bros. Wii</td>\n",
       "      <td>Wii</td>\n",
       "      <td>2009</td>\n",
       "      <td>Platform</td>\n",
       "      <td>14.44</td>\n",
       "      <td>6.94</td>\n",
       "      <td>4.70</td>\n",
       "      <td>2.24</td>\n",
       "      <td>87.0</td>\n",
       "      <td>8.4</td>\n",
       "      <td>E</td>\n",
       "    </tr>\n",
       "    <tr>\n",
       "      <th>9</th>\n",
       "      <td>Duck Hunt</td>\n",
       "      <td>NES</td>\n",
       "      <td>1984</td>\n",
       "      <td>Shooter</td>\n",
       "      <td>26.93</td>\n",
       "      <td>0.63</td>\n",
       "      <td>0.28</td>\n",
       "      <td>0.47</td>\n",
       "      <td>NaN</td>\n",
       "      <td>NaN</td>\n",
       "      <td>NaN</td>\n",
       "    </tr>\n",
       "  </tbody>\n",
       "</table>\n",
       "</div>"
      ],
      "text/plain": [
       "                        name platform  year_of_release         genre  \\\n",
       "0                 Wii Sports      Wii             2006        Sports   \n",
       "1          Super Mario Bros.      NES             1985      Platform   \n",
       "2             Mario Kart Wii      Wii             2008        Racing   \n",
       "3          Wii Sports Resort      Wii             2009        Sports   \n",
       "4   Pokemon Red/Pokemon Blue       GB             1996  Role-Playing   \n",
       "5                     Tetris       GB             1989        Puzzle   \n",
       "6      New Super Mario Bros.       DS             2006      Platform   \n",
       "7                   Wii Play      Wii             2006          Misc   \n",
       "8  New Super Mario Bros. Wii      Wii             2009      Platform   \n",
       "9                  Duck Hunt      NES             1984       Shooter   \n",
       "\n",
       "   na_sales  eu_sales  jp_sales  other_sales  critic_score user_score rating  \n",
       "0     41.36     28.96      3.77         8.45          76.0          8      E  \n",
       "1     29.08      3.58      6.81         0.77           NaN        NaN    NaN  \n",
       "2     15.68     12.76      3.79         3.29          82.0        8.3      E  \n",
       "3     15.61     10.93      3.28         2.95          80.0          8      E  \n",
       "4     11.27      8.89     10.22         1.00           NaN        NaN    NaN  \n",
       "5     23.20      2.26      4.22         0.58           NaN        NaN    NaN  \n",
       "6     11.28      9.14      6.50         2.88          89.0        8.5      E  \n",
       "7     13.96      9.18      2.93         2.84          58.0        6.6      E  \n",
       "8     14.44      6.94      4.70         2.24          87.0        8.4      E  \n",
       "9     26.93      0.63      0.28         0.47           NaN        NaN    NaN  "
      ]
     },
     "execution_count": 12,
     "metadata": {},
     "output_type": "execute_result"
    }
   ],
   "source": [
    "df.head(10)"
   ]
  },
  {
   "cell_type": "code",
   "execution_count": 13,
   "id": "5dd0e9e3",
   "metadata": {},
   "outputs": [],
   "source": [
    "df['rating'] = df['rating'].fillna('unknown')"
   ]
  },
  {
   "cell_type": "code",
   "execution_count": 14,
   "id": "8d039855",
   "metadata": {},
   "outputs": [
    {
     "data": {
      "text/plain": [
       "0          8\n",
       "1        NaN\n",
       "2        8.3\n",
       "3          8\n",
       "4        NaN\n",
       "        ... \n",
       "16710    NaN\n",
       "16711    NaN\n",
       "16712    NaN\n",
       "16713    NaN\n",
       "16714    NaN\n",
       "Name: user_score, Length: 16444, dtype: object"
      ]
     },
     "execution_count": 14,
     "metadata": {},
     "output_type": "execute_result"
    }
   ],
   "source": [
    "df['user_score']"
   ]
  },
  {
   "cell_type": "code",
   "execution_count": 15,
   "id": "31595c1b",
   "metadata": {},
   "outputs": [
    {
     "data": {
      "text/plain": [
       "array(['8', nan, '8.3', '8.5', '6.6', '8.4', '8.6', '7.7', '6.3', '7.4',\n",
       "       '8.2', '9', '7.9', '8.1', '8.7', '7.1', '3.4', '5.3', '4.8', '3.2',\n",
       "       '8.9', '6.4', '7.8', '7.5', '2.6', '7.2', '9.2', '7', '7.3', '4.3',\n",
       "       '7.6', '5.7', '5', '9.1', '6.5', 'tbd', '8.8', '6.9', '9.4', '6.8',\n",
       "       '6.1', '6.7', '5.4', '4', '4.9', '4.5', '9.3', '6.2', '4.2', '6',\n",
       "       '3.7', '4.1', '5.8', '5.6', '5.5', '4.4', '4.6', '5.9', '3.9',\n",
       "       '3.1', '2.9', '5.2', '3.3', '4.7', '5.1', '3.5', '2.5', '1.9', '3',\n",
       "       '2.7', '2.2', '2', '9.5', '2.1', '3.6', '2.8', '1.8', '3.8', '0',\n",
       "       '1.6', '9.6', '2.4', '1.7', '1.1', '0.3', '1.5', '0.7', '1.2',\n",
       "       '2.3', '0.5', '1.3', '0.2', '0.6', '1.4', '0.9', '1', '9.7'],\n",
       "      dtype=object)"
      ]
     },
     "execution_count": 15,
     "metadata": {},
     "output_type": "execute_result"
    }
   ],
   "source": [
    "df['user_score'].unique()"
   ]
  },
  {
   "cell_type": "code",
   "execution_count": 16,
   "id": "abd3919e",
   "metadata": {},
   "outputs": [],
   "source": [
    "df['user_score'] = df['user_score'].replace('tbd', np.nan)"
   ]
  },
  {
   "cell_type": "code",
   "execution_count": 17,
   "id": "ed9f2225",
   "metadata": {},
   "outputs": [],
   "source": [
    "df['user_score'] = df['user_score'].astype('float')"
   ]
  },
  {
   "cell_type": "code",
   "execution_count": 18,
   "id": "6493d12f",
   "metadata": {},
   "outputs": [
    {
     "data": {
      "text/plain": [
       "array([8. , nan, 8.3, 8.5, 6.6, 8.4, 8.6, 7.7, 6.3, 7.4, 8.2, 9. , 7.9,\n",
       "       8.1, 8.7, 7.1, 3.4, 5.3, 4.8, 3.2, 8.9, 6.4, 7.8, 7.5, 2.6, 7.2,\n",
       "       9.2, 7. , 7.3, 4.3, 7.6, 5.7, 5. , 9.1, 6.5, 8.8, 6.9, 9.4, 6.8,\n",
       "       6.1, 6.7, 5.4, 4. , 4.9, 4.5, 9.3, 6.2, 4.2, 6. , 3.7, 4.1, 5.8,\n",
       "       5.6, 5.5, 4.4, 4.6, 5.9, 3.9, 3.1, 2.9, 5.2, 3.3, 4.7, 5.1, 3.5,\n",
       "       2.5, 1.9, 3. , 2.7, 2.2, 2. , 9.5, 2.1, 3.6, 2.8, 1.8, 3.8, 0. ,\n",
       "       1.6, 9.6, 2.4, 1.7, 1.1, 0.3, 1.5, 0.7, 1.2, 2.3, 0.5, 1.3, 0.2,\n",
       "       0.6, 1.4, 0.9, 1. , 9.7])"
      ]
     },
     "execution_count": 18,
     "metadata": {},
     "output_type": "execute_result"
    }
   ],
   "source": [
    "df['user_score'].unique()"
   ]
  },
  {
   "cell_type": "code",
   "execution_count": 19,
   "id": "ecc442a0",
   "metadata": {},
   "outputs": [
    {
     "data": {
      "text/plain": [
       "Index(['name', 'platform', 'year_of_release', 'genre', 'na_sales', 'eu_sales',\n",
       "       'jp_sales', 'other_sales', 'critic_score', 'user_score', 'rating'],\n",
       "      dtype='object')"
      ]
     },
     "execution_count": 19,
     "metadata": {},
     "output_type": "execute_result"
    }
   ],
   "source": [
    "df.columns"
   ]
  },
  {
   "cell_type": "code",
   "execution_count": 20,
   "id": "9bfa5030",
   "metadata": {},
   "outputs": [
    {
     "data": {
      "text/plain": [
       "0        82.54\n",
       "1        40.24\n",
       "2        35.52\n",
       "3        32.77\n",
       "4        31.38\n",
       "         ...  \n",
       "16710     0.01\n",
       "16711     0.01\n",
       "16712     0.01\n",
       "16713     0.01\n",
       "16714     0.01\n",
       "Length: 16444, dtype: float64"
      ]
     },
     "execution_count": 20,
     "metadata": {},
     "output_type": "execute_result"
    }
   ],
   "source": [
    "df['jp_sales'] + df['na_sales'] + df['eu_sales'] + df['other_sales']"
   ]
  },
  {
   "cell_type": "code",
   "execution_count": 21,
   "id": "b4ceb300",
   "metadata": {},
   "outputs": [],
   "source": [
    "df['total_sales'] = df['jp_sales'] + df['na_sales'] + df['eu_sales'] + df['other_sales']"
   ]
  },
  {
   "cell_type": "markdown",
   "id": "622708e8",
   "metadata": {},
   "source": [
    "<div class=\"alert alert-info\">\n",
    "<p>all sales were considered for the total sales column I took the 3 major markets we are in and the other sales. which were not specific of where they were made!<p/>\n",
    "</div>"
   ]
  },
  {
   "cell_type": "code",
   "execution_count": 22,
   "id": "48632bf9",
   "metadata": {},
   "outputs": [
    {
     "data": {
      "text/plain": [
       "Index(['name', 'platform', 'year_of_release', 'genre', 'na_sales', 'eu_sales',\n",
       "       'jp_sales', 'other_sales', 'critic_score', 'user_score', 'rating',\n",
       "       'total_sales'],\n",
       "      dtype='object')"
      ]
     },
     "execution_count": 22,
     "metadata": {},
     "output_type": "execute_result"
    }
   ],
   "source": [
    "df.columns"
   ]
  },
  {
   "cell_type": "code",
   "execution_count": 23,
   "id": "0dc10292",
   "metadata": {},
   "outputs": [
    {
     "data": {
      "text/plain": [
       "0        82.54\n",
       "1        40.24\n",
       "2        35.52\n",
       "3        32.77\n",
       "4        31.38\n",
       "         ...  \n",
       "16710     0.01\n",
       "16711     0.01\n",
       "16712     0.01\n",
       "16713     0.01\n",
       "16714     0.01\n",
       "Name: total_sales, Length: 16444, dtype: float64"
      ]
     },
     "execution_count": 23,
     "metadata": {},
     "output_type": "execute_result"
    }
   ],
   "source": [
    "df['total_sales']"
   ]
  },
  {
   "cell_type": "code",
   "execution_count": 24,
   "id": "c2f40f05",
   "metadata": {},
   "outputs": [],
   "source": [
    "df.reset_index(inplace=True)"
   ]
  },
  {
   "cell_type": "code",
   "execution_count": 25,
   "id": "1e197fc0",
   "metadata": {},
   "outputs": [],
   "source": [
    "df = df.drop(columns=['index'])"
   ]
  },
  {
   "cell_type": "code",
   "execution_count": 26,
   "id": "237cabeb",
   "metadata": {},
   "outputs": [
    {
     "data": {
      "text/html": [
       "<div>\n",
       "<style scoped>\n",
       "    .dataframe tbody tr th:only-of-type {\n",
       "        vertical-align: middle;\n",
       "    }\n",
       "\n",
       "    .dataframe tbody tr th {\n",
       "        vertical-align: top;\n",
       "    }\n",
       "\n",
       "    .dataframe thead th {\n",
       "        text-align: right;\n",
       "    }\n",
       "</style>\n",
       "<table border=\"1\" class=\"dataframe\">\n",
       "  <thead>\n",
       "    <tr style=\"text-align: right;\">\n",
       "      <th></th>\n",
       "      <th>name</th>\n",
       "      <th>platform</th>\n",
       "      <th>year_of_release</th>\n",
       "      <th>genre</th>\n",
       "      <th>na_sales</th>\n",
       "      <th>eu_sales</th>\n",
       "      <th>jp_sales</th>\n",
       "      <th>other_sales</th>\n",
       "      <th>critic_score</th>\n",
       "      <th>user_score</th>\n",
       "      <th>rating</th>\n",
       "      <th>total_sales</th>\n",
       "    </tr>\n",
       "  </thead>\n",
       "  <tbody>\n",
       "    <tr>\n",
       "      <th>0</th>\n",
       "      <td>Wii Sports</td>\n",
       "      <td>Wii</td>\n",
       "      <td>2006</td>\n",
       "      <td>Sports</td>\n",
       "      <td>41.36</td>\n",
       "      <td>28.96</td>\n",
       "      <td>3.77</td>\n",
       "      <td>8.45</td>\n",
       "      <td>76.0</td>\n",
       "      <td>8.0</td>\n",
       "      <td>E</td>\n",
       "      <td>82.54</td>\n",
       "    </tr>\n",
       "    <tr>\n",
       "      <th>1</th>\n",
       "      <td>Super Mario Bros.</td>\n",
       "      <td>NES</td>\n",
       "      <td>1985</td>\n",
       "      <td>Platform</td>\n",
       "      <td>29.08</td>\n",
       "      <td>3.58</td>\n",
       "      <td>6.81</td>\n",
       "      <td>0.77</td>\n",
       "      <td>NaN</td>\n",
       "      <td>NaN</td>\n",
       "      <td>unknown</td>\n",
       "      <td>40.24</td>\n",
       "    </tr>\n",
       "    <tr>\n",
       "      <th>2</th>\n",
       "      <td>Mario Kart Wii</td>\n",
       "      <td>Wii</td>\n",
       "      <td>2008</td>\n",
       "      <td>Racing</td>\n",
       "      <td>15.68</td>\n",
       "      <td>12.76</td>\n",
       "      <td>3.79</td>\n",
       "      <td>3.29</td>\n",
       "      <td>82.0</td>\n",
       "      <td>8.3</td>\n",
       "      <td>E</td>\n",
       "      <td>35.52</td>\n",
       "    </tr>\n",
       "    <tr>\n",
       "      <th>3</th>\n",
       "      <td>Wii Sports Resort</td>\n",
       "      <td>Wii</td>\n",
       "      <td>2009</td>\n",
       "      <td>Sports</td>\n",
       "      <td>15.61</td>\n",
       "      <td>10.93</td>\n",
       "      <td>3.28</td>\n",
       "      <td>2.95</td>\n",
       "      <td>80.0</td>\n",
       "      <td>8.0</td>\n",
       "      <td>E</td>\n",
       "      <td>32.77</td>\n",
       "    </tr>\n",
       "    <tr>\n",
       "      <th>4</th>\n",
       "      <td>Pokemon Red/Pokemon Blue</td>\n",
       "      <td>GB</td>\n",
       "      <td>1996</td>\n",
       "      <td>Role-Playing</td>\n",
       "      <td>11.27</td>\n",
       "      <td>8.89</td>\n",
       "      <td>10.22</td>\n",
       "      <td>1.00</td>\n",
       "      <td>NaN</td>\n",
       "      <td>NaN</td>\n",
       "      <td>unknown</td>\n",
       "      <td>31.38</td>\n",
       "    </tr>\n",
       "    <tr>\n",
       "      <th>...</th>\n",
       "      <td>...</td>\n",
       "      <td>...</td>\n",
       "      <td>...</td>\n",
       "      <td>...</td>\n",
       "      <td>...</td>\n",
       "      <td>...</td>\n",
       "      <td>...</td>\n",
       "      <td>...</td>\n",
       "      <td>...</td>\n",
       "      <td>...</td>\n",
       "      <td>...</td>\n",
       "      <td>...</td>\n",
       "    </tr>\n",
       "    <tr>\n",
       "      <th>16439</th>\n",
       "      <td>Samurai Warriors: Sanada Maru</td>\n",
       "      <td>PS3</td>\n",
       "      <td>2016</td>\n",
       "      <td>Action</td>\n",
       "      <td>0.00</td>\n",
       "      <td>0.00</td>\n",
       "      <td>0.01</td>\n",
       "      <td>0.00</td>\n",
       "      <td>NaN</td>\n",
       "      <td>NaN</td>\n",
       "      <td>unknown</td>\n",
       "      <td>0.01</td>\n",
       "    </tr>\n",
       "    <tr>\n",
       "      <th>16440</th>\n",
       "      <td>LMA Manager 2007</td>\n",
       "      <td>X360</td>\n",
       "      <td>2006</td>\n",
       "      <td>Sports</td>\n",
       "      <td>0.00</td>\n",
       "      <td>0.01</td>\n",
       "      <td>0.00</td>\n",
       "      <td>0.00</td>\n",
       "      <td>NaN</td>\n",
       "      <td>NaN</td>\n",
       "      <td>unknown</td>\n",
       "      <td>0.01</td>\n",
       "    </tr>\n",
       "    <tr>\n",
       "      <th>16441</th>\n",
       "      <td>Haitaka no Psychedelica</td>\n",
       "      <td>PSV</td>\n",
       "      <td>2016</td>\n",
       "      <td>Adventure</td>\n",
       "      <td>0.00</td>\n",
       "      <td>0.00</td>\n",
       "      <td>0.01</td>\n",
       "      <td>0.00</td>\n",
       "      <td>NaN</td>\n",
       "      <td>NaN</td>\n",
       "      <td>unknown</td>\n",
       "      <td>0.01</td>\n",
       "    </tr>\n",
       "    <tr>\n",
       "      <th>16442</th>\n",
       "      <td>Spirits &amp; Spells</td>\n",
       "      <td>GBA</td>\n",
       "      <td>2003</td>\n",
       "      <td>Platform</td>\n",
       "      <td>0.01</td>\n",
       "      <td>0.00</td>\n",
       "      <td>0.00</td>\n",
       "      <td>0.00</td>\n",
       "      <td>NaN</td>\n",
       "      <td>NaN</td>\n",
       "      <td>unknown</td>\n",
       "      <td>0.01</td>\n",
       "    </tr>\n",
       "    <tr>\n",
       "      <th>16443</th>\n",
       "      <td>Winning Post 8 2016</td>\n",
       "      <td>PSV</td>\n",
       "      <td>2016</td>\n",
       "      <td>Simulation</td>\n",
       "      <td>0.00</td>\n",
       "      <td>0.00</td>\n",
       "      <td>0.01</td>\n",
       "      <td>0.00</td>\n",
       "      <td>NaN</td>\n",
       "      <td>NaN</td>\n",
       "      <td>unknown</td>\n",
       "      <td>0.01</td>\n",
       "    </tr>\n",
       "  </tbody>\n",
       "</table>\n",
       "<p>16444 rows × 12 columns</p>\n",
       "</div>"
      ],
      "text/plain": [
       "                                name platform  year_of_release         genre  \\\n",
       "0                         Wii Sports      Wii             2006        Sports   \n",
       "1                  Super Mario Bros.      NES             1985      Platform   \n",
       "2                     Mario Kart Wii      Wii             2008        Racing   \n",
       "3                  Wii Sports Resort      Wii             2009        Sports   \n",
       "4           Pokemon Red/Pokemon Blue       GB             1996  Role-Playing   \n",
       "...                              ...      ...              ...           ...   \n",
       "16439  Samurai Warriors: Sanada Maru      PS3             2016        Action   \n",
       "16440               LMA Manager 2007     X360             2006        Sports   \n",
       "16441        Haitaka no Psychedelica      PSV             2016     Adventure   \n",
       "16442               Spirits & Spells      GBA             2003      Platform   \n",
       "16443            Winning Post 8 2016      PSV             2016    Simulation   \n",
       "\n",
       "       na_sales  eu_sales  jp_sales  other_sales  critic_score  user_score  \\\n",
       "0         41.36     28.96      3.77         8.45          76.0         8.0   \n",
       "1         29.08      3.58      6.81         0.77           NaN         NaN   \n",
       "2         15.68     12.76      3.79         3.29          82.0         8.3   \n",
       "3         15.61     10.93      3.28         2.95          80.0         8.0   \n",
       "4         11.27      8.89     10.22         1.00           NaN         NaN   \n",
       "...         ...       ...       ...          ...           ...         ...   \n",
       "16439      0.00      0.00      0.01         0.00           NaN         NaN   \n",
       "16440      0.00      0.01      0.00         0.00           NaN         NaN   \n",
       "16441      0.00      0.00      0.01         0.00           NaN         NaN   \n",
       "16442      0.01      0.00      0.00         0.00           NaN         NaN   \n",
       "16443      0.00      0.00      0.01         0.00           NaN         NaN   \n",
       "\n",
       "        rating  total_sales  \n",
       "0            E        82.54  \n",
       "1      unknown        40.24  \n",
       "2            E        35.52  \n",
       "3            E        32.77  \n",
       "4      unknown        31.38  \n",
       "...        ...          ...  \n",
       "16439  unknown         0.01  \n",
       "16440  unknown         0.01  \n",
       "16441  unknown         0.01  \n",
       "16442  unknown         0.01  \n",
       "16443  unknown         0.01  \n",
       "\n",
       "[16444 rows x 12 columns]"
      ]
     },
     "execution_count": 26,
     "metadata": {},
     "output_type": "execute_result"
    }
   ],
   "source": [
    "df"
   ]
  },
  {
   "cell_type": "markdown",
   "id": "b7e588db",
   "metadata": {},
   "source": [
    "<div class=\"alert alert-info\">\n",
    "    In the data cleaning above I found the shape of the dataframe which was 16715 rows and 11 columns \n",
    "when I looked at columns I saw they were not insync with how they were named \n",
    "so I renamed them all to be lowercases. \n",
    "\n",
    "upon my inspection I eliminated the data of no year release and name values which was \n",
    "less then 1.5 percent so it would not effect the data I changed the year_of_release\n",
    "column to a int dtype and filled the \n",
    "there is alot of missing data in a few areas of this dataframe. which could be caused by many reasons\n",
    "it could be mainly from us messing up, incomplete upon receiving or just a collection issue. I saw \n",
    "the rating had missing values and made those unknown. \n",
    "I did not worry about cleaning and eliminating the nan values in the critic_score column and the\n",
    "user_score column. I felt as though if I filled them with a average it could alter results.\n",
    "and if they are nan your not having the ability to taint the data.\n",
    "within the user_score i saw there was a tbd value so i made it -1 because all the results were\n",
    "above one so I then went and changed the code to only accept the results thata were greater then \n",
    "1! finally I added the 3 sales columns of na_sales, eu_sales, and jp_sales together to create a new \n",
    "column called total_sales.  \n",
    "</div>"
   ]
  },
  {
   "cell_type": "markdown",
   "id": "26498c3f",
   "metadata": {},
   "source": [
    "<div class=\"alert alert-info\"><h2>Analyze The Data</h2></div>  "
   ]
  },
  {
   "cell_type": "code",
   "execution_count": 27,
   "id": "c44e6f2d",
   "metadata": {},
   "outputs": [
    {
     "data": {
      "text/plain": [
       "year_of_release\n",
       "1980       9\n",
       "1981      46\n",
       "1982      36\n",
       "1983      17\n",
       "1984      14\n",
       "1985      14\n",
       "1986      21\n",
       "1987      16\n",
       "1988      15\n",
       "1989      17\n",
       "1990      16\n",
       "1991      41\n",
       "1992      43\n",
       "1993      60\n",
       "1994     121\n",
       "1995     219\n",
       "1996     263\n",
       "1997     289\n",
       "1998     379\n",
       "1999     338\n",
       "2000     350\n",
       "2001     482\n",
       "2002     829\n",
       "2003     775\n",
       "2004     762\n",
       "2005     939\n",
       "2006    1006\n",
       "2007    1197\n",
       "2008    1427\n",
       "2009    1426\n",
       "2010    1255\n",
       "2011    1136\n",
       "2012     653\n",
       "2013     544\n",
       "2014     581\n",
       "2015     606\n",
       "2016     502\n",
       "Name: name, dtype: int64"
      ]
     },
     "execution_count": 27,
     "metadata": {},
     "output_type": "execute_result"
    }
   ],
   "source": [
    "df.groupby('year_of_release')['name'].count()"
   ]
  },
  {
   "cell_type": "markdown",
   "id": "3b7789ee",
   "metadata": {},
   "source": [
    "<div class=\"alert alert-info\">\n",
    "From the data above the data after 2001 is way more significant. \n",
    "</div>\n",
    "    "
   ]
  },
  {
   "cell_type": "code",
   "execution_count": 28,
   "id": "aa9a3ac0",
   "metadata": {},
   "outputs": [],
   "source": [
    "pl_df = df.groupby('platform')['total_sales'].sum().sort_values(ascending=False).head(10).reset_index()"
   ]
  },
  {
   "cell_type": "code",
   "execution_count": 29,
   "id": "d546100f",
   "metadata": {},
   "outputs": [
    {
     "data": {
      "text/plain": [
       "array(['PS2', 'X360', 'PS3', 'Wii', 'DS', 'PS', 'PS4', 'GBA', 'PSP',\n",
       "       '3DS'], dtype=object)"
      ]
     },
     "execution_count": 29,
     "metadata": {},
     "output_type": "execute_result"
    }
   ],
   "source": [
    "pl_df['platform'].unique()"
   ]
  },
  {
   "cell_type": "code",
   "execution_count": 30,
   "id": "dff2facf",
   "metadata": {
    "scrolled": false
   },
   "outputs": [
    {
     "data": {
      "image/png": "[encoded data removed]",
      "text/plain": [
       "<Figure size 432x288 with 1 Axes>"
      ]
     },
     "metadata": {
      "needs_background": "light"
     },
     "output_type": "display_data"
    }
   ],
   "source": [
    "top_ten_pl = ['PS2', 'X360', 'Wii', 'PS3', 'DS', 'PS', 'GBA', 'PS4', 'PSP', '3DS']\n",
    "filt_df = df[df['platform'].isin(top_ten_pl)]\n",
    "\n",
    "total_sales_filt = filt_df.groupby(['year_of_release', 'platform'])[['total_sales']].sum().reset_index()\n",
    "\n",
    "for platform in top_ten_pl:\n",
    "    pl_df = total_sales_filt[total_sales_filt['platform'] == platform]\n",
    "    plt.plot(pl_df['year_of_release'], pl_df['total_sales'], label=platform)\n",
    "\n",
    "\n",
    "plt.title('Top 10 Platforms by Year')\n",
    "plt.xlabel('Year')\n",
    "plt.ylabel('Total Sales (millions)')\n",
    "\n",
    "plt.legend()\n",
    "plt.show()\n",
    "    "
   ]
  },
  {
   "cell_type": "code",
   "execution_count": 31,
   "id": "5842f4aa",
   "metadata": {
    "scrolled": true
   },
   "outputs": [
    {
     "data": {
      "text/html": [
       "<div>\n",
       "<style scoped>\n",
       "    .dataframe tbody tr th:only-of-type {\n",
       "        vertical-align: middle;\n",
       "    }\n",
       "\n",
       "    .dataframe tbody tr th {\n",
       "        vertical-align: top;\n",
       "    }\n",
       "\n",
       "    .dataframe thead th {\n",
       "        text-align: right;\n",
       "    }\n",
       "</style>\n",
       "<table border=\"1\" class=\"dataframe\">\n",
       "  <thead>\n",
       "    <tr style=\"text-align: right;\">\n",
       "      <th></th>\n",
       "      <th>name</th>\n",
       "      <th>platform</th>\n",
       "      <th>year_of_release</th>\n",
       "      <th>genre</th>\n",
       "      <th>na_sales</th>\n",
       "      <th>eu_sales</th>\n",
       "      <th>jp_sales</th>\n",
       "      <th>other_sales</th>\n",
       "      <th>critic_score</th>\n",
       "      <th>user_score</th>\n",
       "      <th>rating</th>\n",
       "      <th>total_sales</th>\n",
       "    </tr>\n",
       "  </thead>\n",
       "  <tbody>\n",
       "    <tr>\n",
       "      <th>0</th>\n",
       "      <td>Wii Sports</td>\n",
       "      <td>Wii</td>\n",
       "      <td>2006</td>\n",
       "      <td>Sports</td>\n",
       "      <td>41.36</td>\n",
       "      <td>28.96</td>\n",
       "      <td>3.77</td>\n",
       "      <td>8.45</td>\n",
       "      <td>76.0</td>\n",
       "      <td>8.0</td>\n",
       "      <td>E</td>\n",
       "      <td>82.54</td>\n",
       "    </tr>\n",
       "    <tr>\n",
       "      <th>2</th>\n",
       "      <td>Mario Kart Wii</td>\n",
       "      <td>Wii</td>\n",
       "      <td>2008</td>\n",
       "      <td>Racing</td>\n",
       "      <td>15.68</td>\n",
       "      <td>12.76</td>\n",
       "      <td>3.79</td>\n",
       "      <td>3.29</td>\n",
       "      <td>82.0</td>\n",
       "      <td>8.3</td>\n",
       "      <td>E</td>\n",
       "      <td>35.52</td>\n",
       "    </tr>\n",
       "    <tr>\n",
       "      <th>3</th>\n",
       "      <td>Wii Sports Resort</td>\n",
       "      <td>Wii</td>\n",
       "      <td>2009</td>\n",
       "      <td>Sports</td>\n",
       "      <td>15.61</td>\n",
       "      <td>10.93</td>\n",
       "      <td>3.28</td>\n",
       "      <td>2.95</td>\n",
       "      <td>80.0</td>\n",
       "      <td>8.0</td>\n",
       "      <td>E</td>\n",
       "      <td>32.77</td>\n",
       "    </tr>\n",
       "    <tr>\n",
       "      <th>6</th>\n",
       "      <td>New Super Mario Bros.</td>\n",
       "      <td>DS</td>\n",
       "      <td>2006</td>\n",
       "      <td>Platform</td>\n",
       "      <td>11.28</td>\n",
       "      <td>9.14</td>\n",
       "      <td>6.50</td>\n",
       "      <td>2.88</td>\n",
       "      <td>89.0</td>\n",
       "      <td>8.5</td>\n",
       "      <td>E</td>\n",
       "      <td>29.80</td>\n",
       "    </tr>\n",
       "    <tr>\n",
       "      <th>7</th>\n",
       "      <td>Wii Play</td>\n",
       "      <td>Wii</td>\n",
       "      <td>2006</td>\n",
       "      <td>Misc</td>\n",
       "      <td>13.96</td>\n",
       "      <td>9.18</td>\n",
       "      <td>2.93</td>\n",
       "      <td>2.84</td>\n",
       "      <td>58.0</td>\n",
       "      <td>6.6</td>\n",
       "      <td>E</td>\n",
       "      <td>28.91</td>\n",
       "    </tr>\n",
       "    <tr>\n",
       "      <th>...</th>\n",
       "      <td>...</td>\n",
       "      <td>...</td>\n",
       "      <td>...</td>\n",
       "      <td>...</td>\n",
       "      <td>...</td>\n",
       "      <td>...</td>\n",
       "      <td>...</td>\n",
       "      <td>...</td>\n",
       "      <td>...</td>\n",
       "      <td>...</td>\n",
       "      <td>...</td>\n",
       "      <td>...</td>\n",
       "    </tr>\n",
       "    <tr>\n",
       "      <th>16437</th>\n",
       "      <td>Woody Woodpecker in Crazy Castle 5</td>\n",
       "      <td>GBA</td>\n",
       "      <td>2002</td>\n",
       "      <td>Platform</td>\n",
       "      <td>0.01</td>\n",
       "      <td>0.00</td>\n",
       "      <td>0.00</td>\n",
       "      <td>0.00</td>\n",
       "      <td>NaN</td>\n",
       "      <td>NaN</td>\n",
       "      <td>unknown</td>\n",
       "      <td>0.01</td>\n",
       "    </tr>\n",
       "    <tr>\n",
       "      <th>16438</th>\n",
       "      <td>SCORE International Baja 1000: The Official Game</td>\n",
       "      <td>PS2</td>\n",
       "      <td>2008</td>\n",
       "      <td>Racing</td>\n",
       "      <td>0.00</td>\n",
       "      <td>0.00</td>\n",
       "      <td>0.00</td>\n",
       "      <td>0.00</td>\n",
       "      <td>NaN</td>\n",
       "      <td>NaN</td>\n",
       "      <td>unknown</td>\n",
       "      <td>0.00</td>\n",
       "    </tr>\n",
       "    <tr>\n",
       "      <th>16439</th>\n",
       "      <td>Samurai Warriors: Sanada Maru</td>\n",
       "      <td>PS3</td>\n",
       "      <td>2016</td>\n",
       "      <td>Action</td>\n",
       "      <td>0.00</td>\n",
       "      <td>0.00</td>\n",
       "      <td>0.01</td>\n",
       "      <td>0.00</td>\n",
       "      <td>NaN</td>\n",
       "      <td>NaN</td>\n",
       "      <td>unknown</td>\n",
       "      <td>0.01</td>\n",
       "    </tr>\n",
       "    <tr>\n",
       "      <th>16440</th>\n",
       "      <td>LMA Manager 2007</td>\n",
       "      <td>X360</td>\n",
       "      <td>2006</td>\n",
       "      <td>Sports</td>\n",
       "      <td>0.00</td>\n",
       "      <td>0.01</td>\n",
       "      <td>0.00</td>\n",
       "      <td>0.00</td>\n",
       "      <td>NaN</td>\n",
       "      <td>NaN</td>\n",
       "      <td>unknown</td>\n",
       "      <td>0.01</td>\n",
       "    </tr>\n",
       "    <tr>\n",
       "      <th>16442</th>\n",
       "      <td>Spirits &amp; Spells</td>\n",
       "      <td>GBA</td>\n",
       "      <td>2003</td>\n",
       "      <td>Platform</td>\n",
       "      <td>0.01</td>\n",
       "      <td>0.00</td>\n",
       "      <td>0.00</td>\n",
       "      <td>0.00</td>\n",
       "      <td>NaN</td>\n",
       "      <td>NaN</td>\n",
       "      <td>unknown</td>\n",
       "      <td>0.01</td>\n",
       "    </tr>\n",
       "  </tbody>\n",
       "</table>\n",
       "<p>12170 rows × 12 columns</p>\n",
       "</div>"
      ],
      "text/plain": [
       "                                                   name platform  \\\n",
       "0                                            Wii Sports      Wii   \n",
       "2                                        Mario Kart Wii      Wii   \n",
       "3                                     Wii Sports Resort      Wii   \n",
       "6                                 New Super Mario Bros.       DS   \n",
       "7                                              Wii Play      Wii   \n",
       "...                                                 ...      ...   \n",
       "16437                Woody Woodpecker in Crazy Castle 5      GBA   \n",
       "16438  SCORE International Baja 1000: The Official Game      PS2   \n",
       "16439                     Samurai Warriors: Sanada Maru      PS3   \n",
       "16440                                  LMA Manager 2007     X360   \n",
       "16442                                  Spirits & Spells      GBA   \n",
       "\n",
       "       year_of_release     genre  na_sales  eu_sales  jp_sales  other_sales  \\\n",
       "0                 2006    Sports     41.36     28.96      3.77         8.45   \n",
       "2                 2008    Racing     15.68     12.76      3.79         3.29   \n",
       "3                 2009    Sports     15.61     10.93      3.28         2.95   \n",
       "6                 2006  Platform     11.28      9.14      6.50         2.88   \n",
       "7                 2006      Misc     13.96      9.18      2.93         2.84   \n",
       "...                ...       ...       ...       ...       ...          ...   \n",
       "16437             2002  Platform      0.01      0.00      0.00         0.00   \n",
       "16438             2008    Racing      0.00      0.00      0.00         0.00   \n",
       "16439             2016    Action      0.00      0.00      0.01         0.00   \n",
       "16440             2006    Sports      0.00      0.01      0.00         0.00   \n",
       "16442             2003  Platform      0.01      0.00      0.00         0.00   \n",
       "\n",
       "       critic_score  user_score   rating  total_sales  \n",
       "0              76.0         8.0        E        82.54  \n",
       "2              82.0         8.3        E        35.52  \n",
       "3              80.0         8.0        E        32.77  \n",
       "6              89.0         8.5        E        29.80  \n",
       "7              58.0         6.6        E        28.91  \n",
       "...             ...         ...      ...          ...  \n",
       "16437           NaN         NaN  unknown         0.01  \n",
       "16438           NaN         NaN  unknown         0.00  \n",
       "16439           NaN         NaN  unknown         0.01  \n",
       "16440           NaN         NaN  unknown         0.01  \n",
       "16442           NaN         NaN  unknown         0.01  \n",
       "\n",
       "[12170 rows x 12 columns]"
      ]
     },
     "execution_count": 31,
     "metadata": {},
     "output_type": "execute_result"
    }
   ],
   "source": [
    "filt_df"
   ]
  },
  {
   "cell_type": "markdown",
   "id": "3cdbfb89",
   "metadata": {},
   "source": [
    "<div class=\"alert alert-info\">\n",
    "    this line chart represents the 10 most profitable systemes in total sales which is including the three main markets.\n",
    "    it also shows where the sales started to decline to zero. \n",
    "</div>"
   ]
  },
  {
   "cell_type": "code",
   "execution_count": 32,
   "id": "bed318ef",
   "metadata": {
    "scrolled": false
   },
   "outputs": [
    {
     "data": {
      "image/png": "[encoded data removed]",
      "text/plain": [
       "<Figure size 1152x2304 with 10 Axes>"
      ]
     },
     "metadata": {
      "needs_background": "light"
     },
     "output_type": "display_data"
    }
   ],
   "source": [
    "\n",
    "\n",
    "# Create pivot tables for each platform\n",
    "pivot_tables = {}\n",
    "for platform in top_ten_pl:\n",
    "    pl_df = total_sales_filt[total_sales_filt['platform'] == platform]\n",
    "    pivot_tables[platform] = pl_df.pivot_table(index='year_of_release', values='total_sales', aggfunc='sum')\n",
    "\n",
    "# Plot pivot tables\n",
    "fig, axs = plt.subplots(nrows=len(top_ten_pl), figsize=(16, 32))\n",
    "\n",
    "for i, platform in enumerate(top_ten_pl):\n",
    "    pivot_table = pivot_tables[platform]\n",
    "    axs[i].plot(pivot_table.index, pivot_table['total_sales'])\n",
    "    axs[i].set_title(platform)\n",
    "\n",
    "plt.tight_layout()\n",
    "plt.show()\n"
   ]
  },
  {
   "cell_type": "markdown",
   "id": "ba42d1aa",
   "metadata": {},
   "source": [
    "<div class=\"alert alert-info\">\n",
    "    these pivot tables display the top ten performing platforms in the dataframe we have and showcases where they ended up having zero sales. The GB, PSP, GBA, PS, DS, and PS2 are all examples of game platforms that had great sales and then ended up dropping to zero. It seems like a age of a system before it is fully zero is somewhere in the 7-8 year mark. It generally \n",
    "    looks like it takes a good 2-4 years for the sales to steadily incline. and new ones come out around about every 10 years and the old ones take a good 2 years to completely fade. the game industry from this data does look like it changes alot. so I believe a good gage for 2017 projections would be about 2 years out. just because we dont care about majority of the systems that have already faded out. and we are possibly entering a rise of a bunch of new systems starting to come into market in the next year or two sense we seem to be at the end of these companies other systems being on the end of their life cycle. The main ones that are growing is mainly going to be the ps4. which from top performers seems like one of the best systems to have growth potential. where now x360 and the wii are almost fully faded out. \n",
    "</div>"
   ]
  },
  {
   "cell_type": "code",
   "execution_count": 33,
   "id": "29e3a336",
   "metadata": {
    "scrolled": false
   },
   "outputs": [
    {
     "data": {
      "text/plain": [
       "platform\n",
       "Wii     -3.57\n",
       "PSV     -7.65\n",
       "PC      -8.03\n",
       "WiiU   -17.43\n",
       "XOne   -27.92\n",
       "3DS    -28.62\n",
       "PS4    -30.75\n",
       "X360   -33.22\n",
       "PS3    -44.16\n",
       "PSP       NaN\n",
       "dtype: float64"
      ]
     },
     "execution_count": 33,
     "metadata": {},
     "output_type": "execute_result"
    }
   ],
   "source": [
    "past_three_yrs = df[(df['year_of_release'] >= 2014) & (df['year_of_release'] <= 2016)]\n",
    "pl_grow = past_three_yrs.groupby('platform')['total_sales'].sum().sort_values(ascending=False)\n",
    "pl_sales = past_three_yrs.groupby(['platform', 'year_of_release'])['total_sales'].sum().unstack()\n",
    "pl_growth = pl_sales[2016] - pl_sales[2014]\n",
    "\n",
    "pl_growth.sort_values(ascending=False)"
   ]
  },
  {
   "cell_type": "code",
   "execution_count": 34,
   "id": "f1406ea6",
   "metadata": {},
   "outputs": [
    {
     "name": "stdout",
     "output_type": "stream",
     "text": [
      "Total Sales by Platform:\n",
      "year_of_release    2014    2015   2016\n",
      "platform                              \n",
      "3DS               43.76   27.78  15.14\n",
      "PC                13.28    8.52   5.25\n",
      "PS3               47.76   16.82   3.60\n",
      "PS4              100.00  118.90  69.25\n",
      "PSP                0.24    0.12    NaN\n",
      "PSV               11.90    6.25   4.25\n",
      "Wii                3.75    1.14   0.18\n",
      "WiiU              22.03   16.35   4.60\n",
      "X360              34.74   11.96   1.52\n",
      "XOne              54.07   60.14  26.15\n",
      "\n",
      "Growth by Platform:\n",
      "platform\n",
      "Wii     -3.57\n",
      "PSV     -7.65\n",
      "PC      -8.03\n",
      "WiiU   -17.43\n",
      "XOne   -27.92\n",
      "3DS    -28.62\n",
      "PS4    -30.75\n",
      "X360   -33.22\n",
      "PS3    -44.16\n",
      "PSP       NaN\n",
      "dtype: float64\n"
     ]
    }
   ],
   "source": [
    "past_three_yrs = df[(df['year_of_release'] >= 2014) & (df['year_of_release'] <= 2016)]\n",
    "\n",
    "# Total sales by platform\n",
    "pl_sales = past_three_yrs.pivot_table(index='platform', columns='year_of_release', values='total_sales', aggfunc='sum')\n",
    "\n",
    "# Growth calculation\n",
    "pl_growth = pl_sales[2016] - pl_sales[2014]\n",
    "\n",
    "# Sorting by growth\n",
    "pl_growth_sorted = pl_growth.sort_values(ascending=False)\n",
    "\n",
    "# Print the pivot tables\n",
    "print(\"Total Sales by Platform:\")\n",
    "print(pl_sales)\n",
    "\n",
    "print(\"\\nGrowth by Platform:\")\n",
    "print(pl_growth_sorted)"
   ]
  },
  {
   "cell_type": "code",
   "execution_count": 35,
   "id": "48807f0f",
   "metadata": {
    "scrolled": true
   },
   "outputs": [
    {
     "data": {
      "text/plain": [
       "platform\n",
       "PS2     12\n",
       "PSP     12\n",
       "X360    12\n",
       "DS      11\n",
       "PS3     11\n",
       "Wii     11\n",
       "PS      10\n",
       "GBA      8\n",
       "3DS      6\n",
       "PS4      4\n",
       "Name: year_of_release, dtype: int64"
      ]
     },
     "execution_count": 35,
     "metadata": {},
     "output_type": "execute_result"
    }
   ],
   "source": [
    "\n",
    "\n",
    "pl_yrs_active = total_sales_filt.groupby('platform')['year_of_release'].nunique().sort_values(ascending=False)\n",
    "pl_yrs_active"
   ]
  },
  {
   "cell_type": "code",
   "execution_count": 36,
   "id": "adece06f",
   "metadata": {},
   "outputs": [
    {
     "data": {
      "text/plain": [
       "9.7"
      ]
     },
     "execution_count": 36,
     "metadata": {},
     "output_type": "execute_result"
    }
   ],
   "source": [
    "pl_yrs_active = round(pl_yrs_active.mean(), 2)\n",
    "pl_yrs_active"
   ]
  },
  {
   "cell_type": "markdown",
   "id": "0f3ab997",
   "metadata": {},
   "source": [
    "<div class=\"alert alert-info\">\n",
    "    The code above supports the ps4 rising and the Wii and x360 fading. the reason the ps4 is down 40 million is because it did not hit the total_sales in all its regions compared to the prior 2 years. The most prominent new platform in its growing stages is PS4 and Xboxone.\n",
    "</div>"
   ]
  },
  {
   "cell_type": "code",
   "execution_count": 37,
   "id": "26d64d91",
   "metadata": {},
   "outputs": [
    {
     "data": {
      "text/html": [
       "<div>\n",
       "<style scoped>\n",
       "    .dataframe tbody tr th:only-of-type {\n",
       "        vertical-align: middle;\n",
       "    }\n",
       "\n",
       "    .dataframe tbody tr th {\n",
       "        vertical-align: top;\n",
       "    }\n",
       "\n",
       "    .dataframe thead th {\n",
       "        text-align: right;\n",
       "    }\n",
       "</style>\n",
       "<table border=\"1\" class=\"dataframe\">\n",
       "  <thead>\n",
       "    <tr style=\"text-align: right;\">\n",
       "      <th>platform</th>\n",
       "      <th>3DS</th>\n",
       "      <th>DS</th>\n",
       "      <th>PC</th>\n",
       "      <th>PS3</th>\n",
       "      <th>PS4</th>\n",
       "      <th>PSP</th>\n",
       "      <th>PSV</th>\n",
       "      <th>Wii</th>\n",
       "      <th>WiiU</th>\n",
       "      <th>X360</th>\n",
       "      <th>XOne</th>\n",
       "    </tr>\n",
       "    <tr>\n",
       "      <th>year_of_release</th>\n",
       "      <th></th>\n",
       "      <th></th>\n",
       "      <th></th>\n",
       "      <th></th>\n",
       "      <th></th>\n",
       "      <th></th>\n",
       "      <th></th>\n",
       "      <th></th>\n",
       "      <th></th>\n",
       "      <th></th>\n",
       "      <th></th>\n",
       "    </tr>\n",
       "  </thead>\n",
       "  <tbody>\n",
       "    <tr>\n",
       "      <th>2012</th>\n",
       "      <td>51.36</td>\n",
       "      <td>11.01</td>\n",
       "      <td>23.22</td>\n",
       "      <td>107.36</td>\n",
       "      <td>NaN</td>\n",
       "      <td>7.69</td>\n",
       "      <td>16.19</td>\n",
       "      <td>21.71</td>\n",
       "      <td>17.56</td>\n",
       "      <td>99.74</td>\n",
       "      <td>NaN</td>\n",
       "    </tr>\n",
       "    <tr>\n",
       "      <th>2013</th>\n",
       "      <td>56.57</td>\n",
       "      <td>1.54</td>\n",
       "      <td>12.38</td>\n",
       "      <td>113.25</td>\n",
       "      <td>25.99</td>\n",
       "      <td>3.14</td>\n",
       "      <td>10.59</td>\n",
       "      <td>8.59</td>\n",
       "      <td>21.65</td>\n",
       "      <td>88.58</td>\n",
       "      <td>18.96</td>\n",
       "    </tr>\n",
       "    <tr>\n",
       "      <th>2014</th>\n",
       "      <td>43.76</td>\n",
       "      <td>NaN</td>\n",
       "      <td>13.28</td>\n",
       "      <td>47.76</td>\n",
       "      <td>100.00</td>\n",
       "      <td>0.24</td>\n",
       "      <td>11.90</td>\n",
       "      <td>3.75</td>\n",
       "      <td>22.03</td>\n",
       "      <td>34.74</td>\n",
       "      <td>54.07</td>\n",
       "    </tr>\n",
       "    <tr>\n",
       "      <th>2015</th>\n",
       "      <td>27.78</td>\n",
       "      <td>NaN</td>\n",
       "      <td>8.52</td>\n",
       "      <td>16.82</td>\n",
       "      <td>118.90</td>\n",
       "      <td>0.12</td>\n",
       "      <td>6.25</td>\n",
       "      <td>1.14</td>\n",
       "      <td>16.35</td>\n",
       "      <td>11.96</td>\n",
       "      <td>60.14</td>\n",
       "    </tr>\n",
       "    <tr>\n",
       "      <th>2016</th>\n",
       "      <td>15.14</td>\n",
       "      <td>NaN</td>\n",
       "      <td>5.25</td>\n",
       "      <td>3.60</td>\n",
       "      <td>69.25</td>\n",
       "      <td>NaN</td>\n",
       "      <td>4.25</td>\n",
       "      <td>0.18</td>\n",
       "      <td>4.60</td>\n",
       "      <td>1.52</td>\n",
       "      <td>26.15</td>\n",
       "    </tr>\n",
       "  </tbody>\n",
       "</table>\n",
       "</div>"
      ],
      "text/plain": [
       "platform           3DS     DS     PC     PS3     PS4   PSP    PSV    Wii  \\\n",
       "year_of_release                                                            \n",
       "2012             51.36  11.01  23.22  107.36     NaN  7.69  16.19  21.71   \n",
       "2013             56.57   1.54  12.38  113.25   25.99  3.14  10.59   8.59   \n",
       "2014             43.76    NaN  13.28   47.76  100.00  0.24  11.90   3.75   \n",
       "2015             27.78    NaN   8.52   16.82  118.90  0.12   6.25   1.14   \n",
       "2016             15.14    NaN   5.25    3.60   69.25   NaN   4.25   0.18   \n",
       "\n",
       "platform          WiiU   X360   XOne  \n",
       "year_of_release                       \n",
       "2012             17.56  99.74    NaN  \n",
       "2013             21.65  88.58  18.96  \n",
       "2014             22.03  34.74  54.07  \n",
       "2015             16.35  11.96  60.14  \n",
       "2016              4.60   1.52  26.15  "
      ]
     },
     "execution_count": 37,
     "metadata": {},
     "output_type": "execute_result"
    }
   ],
   "source": [
    "# Reviewer's code 2\n",
    "\n",
    "df.query('year_of_release>2011').pivot_table(index='year_of_release', columns='platform', values='total_sales', aggfunc='sum')"
   ]
  },
  {
   "cell_type": "markdown",
   "id": "40a40476",
   "metadata": {},
   "source": [
    "<div class=\"alert alert-info\">\n",
    "    From this box plot it displays that the median is a 3 million dollar loss. the reason for this is that we could be at the end of many of these now older systems in their fade out phase and the rise of new platforms coming out and to build new growth potential for the future. \n",
    "</div>"
   ]
  },
  {
   "cell_type": "code",
   "execution_count": 38,
   "id": "d2e8c48c",
   "metadata": {
    "scrolled": false
   },
   "outputs": [
    {
     "data": {
      "image/png": "[encoded data removed]",
      "text/plain": [
       "<Figure size 720x432 with 1 Axes>"
      ]
     },
     "metadata": {
      "needs_background": "light"
     },
     "output_type": "display_data"
    }
   ],
   "source": [
    "fig, ax = plt.subplots(figsize=(10,6))\n",
    "ax.boxplot([past_three_yrs[past_three_yrs['platform'] == p]['total_sales'] for p in pl_grow.index])\n",
    "ax.set_xticklabels(pl_grow.index)\n",
    "ax.set_title('Total Sales by Platform')\n",
    "ax.set_ylabel('Total Sales (millions)')\n",
    "ax.set_ylim(0,5)\n",
    "\n",
    "plt.show()"
   ]
  },
  {
   "cell_type": "code",
   "execution_count": 39,
   "id": "b018f7c4",
   "metadata": {},
   "outputs": [
    {
     "data": {
      "image/png": "[encoded data removed]",
      "text/plain": [
       "<Figure size 504x360 with 1 Axes>"
      ]
     },
     "metadata": {
      "needs_background": "light"
     },
     "output_type": "display_data"
    }
   ],
   "source": [
    "pl_grow = pl_grow.head()\n",
    "pl_grow.plot(kind='bar', figsize=(7,5), ylabel='Sales in the Millions')\n",
    "plt.show()"
   ]
  },
  {
   "cell_type": "markdown",
   "id": "37778d5d",
   "metadata": {},
   "source": [
    "<div class=\"alert alert-info\">\n",
    "<p>I attempted to use the ylim. I did not really see a increase in the box size until I reached a 5 for the limit. My question to you is does chopping off the 6 - 14 in the range aspect make a huge difference sense all those plotted points were so heavy outside the box plot? <p/>\n",
    "</div>"
   ]
  },
  {
   "cell_type": "code",
   "execution_count": 40,
   "id": "20814622",
   "metadata": {
    "scrolled": true
   },
   "outputs": [
    {
     "data": {
      "text/plain": [
       "count      5.000000\n",
       "mean     126.318000\n",
       "std       96.743565\n",
       "min       48.220000\n",
       "25%       68.180000\n",
       "50%       86.680000\n",
       "75%      140.360000\n",
       "max      288.150000\n",
       "Name: total_sales, dtype: float64"
      ]
     },
     "execution_count": 40,
     "metadata": {},
     "output_type": "execute_result"
    }
   ],
   "source": [
    "pl_grow.describe()"
   ]
  },
  {
   "cell_type": "markdown",
   "id": "dd82e004",
   "metadata": {},
   "source": [
    "<div class=\"alert alert-info\">\n",
    "\n",
    "The sales diffences is 4.64 million from eachother. which when we are in the millions like they are its not\n",
    "that much of a significance \n",
    "    \n",
    "</div>"
   ]
  },
  {
   "cell_type": "code",
   "execution_count": 41,
   "id": "421d3b8c",
   "metadata": {
    "scrolled": true
   },
   "outputs": [
    {
     "data": {
      "image/png": "[encoded data removed]",
      "text/plain": [
       "<Figure size 432x288 with 1 Axes>"
      ]
     },
     "metadata": {
      "needs_background": "light"
     },
     "output_type": "display_data"
    },
    {
     "name": "stdout",
     "output_type": "stream",
     "text": [
      "This is the correlation for user score and the sales: -0.040131589472697356\n"
     ]
    }
   ],
   "source": [
    "ps4_data = past_three_yrs[past_three_yrs['platform'] == 'PS4']\n",
    "\n",
    "plt.scatter(ps4_data['user_score'], ps4_data['total_sales'])\n",
    "plt.title('PS4: User Score vs Sales')\n",
    "plt.xlabel('User Score')\n",
    "plt.ylabel('Total Sales (millions)')\n",
    "plt.show()\n",
    "\n",
    "user_cor = ps4_data['user_score'].corr(ps4_data['total_sales'])\n",
    "print('This is the correlation for user score and the sales:', user_cor) "
   ]
  },
  {
   "cell_type": "code",
   "execution_count": 42,
   "id": "dc771b2f",
   "metadata": {
    "scrolled": true
   },
   "outputs": [
    {
     "data": {
      "image/png": "[encoded data removed]",
      "text/plain": [
       "<Figure size 432x288 with 1 Axes>"
      ]
     },
     "metadata": {
      "needs_background": "light"
     },
     "output_type": "display_data"
    },
    {
     "name": "stdout",
     "output_type": "stream",
     "text": [
      "This is the correlation between the critic score and the sales: 0.402661410681041\n"
     ]
    }
   ],
   "source": [
    "plt.scatter(ps4_data['critic_score'], ps4_data['total_sales'])\n",
    "plt.title('PS4: Critic Score vs Sales')\n",
    "plt.xlabel('Critic Score')\n",
    "plt.ylabel('Total Sales (millions)')\n",
    "plt.show()\n",
    "\n",
    "crit_cor = ps4_data['critic_score'].corr(ps4_data['total_sales'])\n",
    "print('This is the correlation between the critic score and the sales:', crit_cor)"
   ]
  },
  {
   "cell_type": "code",
   "execution_count": 43,
   "id": "d7bc4f75",
   "metadata": {
    "scrolled": true
   },
   "outputs": [
    {
     "data": {
      "image/png": "[encoded data removed]",
      "text/plain": [
       "<Figure size 432x288 with 1 Axes>"
      ]
     },
     "metadata": {
      "needs_background": "light"
     },
     "output_type": "display_data"
    },
    {
     "name": "stdout",
     "output_type": "stream",
     "text": [
      "This is the correlation for user score and the sales: -0.16676141347662118\n"
     ]
    }
   ],
   "source": [
    "ps3_data = past_three_yrs[past_three_yrs['platform'] == 'PS3']\n",
    "\n",
    "plt.scatter(ps3_data['user_score'], ps3_data['total_sales'])\n",
    "plt.title('PS3: User Score vs Sales')\n",
    "plt.xlabel('User Score')\n",
    "plt.ylabel('Total Sales (millions)')\n",
    "plt.show()\n",
    "\n",
    "user_cor = ps3_data['user_score'].corr(ps3_data['total_sales'])\n",
    "print('This is the correlation for user score and the sales:', user_cor)"
   ]
  },
  {
   "cell_type": "code",
   "execution_count": 44,
   "id": "0f4ba5e7",
   "metadata": {},
   "outputs": [
    {
     "data": {
      "image/png": "[encoded data removed]",
      "text/plain": [
       "<Figure size 432x288 with 1 Axes>"
      ]
     },
     "metadata": {
      "needs_background": "light"
     },
     "output_type": "display_data"
    },
    {
     "name": "stdout",
     "output_type": "stream",
     "text": [
      "This is the correlation between the critic score and the sales: 0.44657460493190704\n"
     ]
    }
   ],
   "source": [
    "plt.scatter(ps3_data['critic_score'], ps3_data['total_sales'])\n",
    "plt.title('PS3: Critic Score vs Sales')\n",
    "plt.xlabel('Critic Score')\n",
    "plt.ylabel('Total Sales (millions)')\n",
    "plt.show()\n",
    "\n",
    "crit_cor = ps3_data['critic_score'].corr(ps3_data['total_sales'])\n",
    "print('This is the correlation between the critic score and the sales:', crit_cor)"
   ]
  },
  {
   "cell_type": "code",
   "execution_count": 45,
   "id": "d9212667",
   "metadata": {},
   "outputs": [
    {
     "data": {
      "image/png": "[encoded data removed]",
      "text/plain": [
       "<Figure size 432x288 with 1 Axes>"
      ]
     },
     "metadata": {
      "needs_background": "light"
     },
     "output_type": "display_data"
    },
    {
     "name": "stdout",
     "output_type": "stream",
     "text": [
      "This is the correlation for user score and the sales: -0.0703839280647581\n"
     ]
    }
   ],
   "source": [
    "xboxone_data = past_three_yrs[past_three_yrs['platform'] == 'XOne']\n",
    "\n",
    "plt.scatter(xboxone_data['user_score'], xboxone_data['total_sales'])\n",
    "plt.title('XBoxOne: User Score vs Sales')\n",
    "plt.xlabel('User Score')\n",
    "plt.ylabel('Total Sales (millions)')\n",
    "plt.show()\n",
    "\n",
    "user_cor = xboxone_data['user_score'].corr(xboxone_data['total_sales'])\n",
    "print('This is the correlation for user score and the sales:', user_cor)"
   ]
  },
  {
   "cell_type": "code",
   "execution_count": 46,
   "id": "edcc3b66",
   "metadata": {},
   "outputs": [
    {
     "data": {
      "image/png": "[encoded data removed]",
      "text/plain": [
       "<Figure size 432x288 with 1 Axes>"
      ]
     },
     "metadata": {
      "needs_background": "light"
     },
     "output_type": "display_data"
    },
    {
     "name": "stdout",
     "output_type": "stream",
     "text": [
      "This is the correlation between the critic score and the sales: 0.42867694370333226\n"
     ]
    }
   ],
   "source": [
    "plt.scatter(xboxone_data['critic_score'], xboxone_data['total_sales'])\n",
    "plt.title('XBoxOne: Critic Score vs Sales')\n",
    "plt.xlabel('Critic Score')\n",
    "plt.ylabel('Total Sales (millions)')\n",
    "plt.show()\n",
    "\n",
    "crit_cor = xboxone_data['critic_score'].corr(xboxone_data['total_sales'])\n",
    "print('This is the correlation between the critic score and the sales:', crit_cor)"
   ]
  },
  {
   "cell_type": "markdown",
   "id": "89c0d5c4",
   "metadata": {},
   "source": [
    "<div class=\"alert alert-info\">\n",
    "    From the above data critic score and user score do not have a huge influence in the total sales.\n",
    "</div>"
   ]
  },
  {
   "cell_type": "code",
   "execution_count": 47,
   "id": "cd9cace3",
   "metadata": {},
   "outputs": [
    {
     "data": {
      "text/plain": [
       "name\n",
       "Call of Duty: Black Ops 3              25.67\n",
       "Call of Duty: Advanced Warfare         21.97\n",
       "Grand Theft Auto V                     19.26\n",
       "FIFA 15                                17.37\n",
       "FIFA 16                                16.30\n",
       "Minecraft                              14.98\n",
       "Fallout 4                              12.67\n",
       "Destiny                                12.54\n",
       "Super Smash Bros. for Wii U and 3DS    12.42\n",
       "Star Wars Battlefront (2015)           12.19\n",
       "Name: total_sales, dtype: float64"
      ]
     },
     "execution_count": 47,
     "metadata": {},
     "output_type": "execute_result"
    }
   ],
   "source": [
    "\n",
    "name_sales = past_three_yrs.groupby('name')['total_sales'].sum().sort_values(ascending=False)\n",
    "top_games = name_sales.head(10)\n",
    "\n",
    "top_games"
   ]
  },
  {
   "cell_type": "code",
   "execution_count": 48,
   "id": "0eeebd09",
   "metadata": {},
   "outputs": [
    {
     "data": {
      "text/html": [
       "<div>\n",
       "<style scoped>\n",
       "    .dataframe tbody tr th:only-of-type {\n",
       "        vertical-align: middle;\n",
       "    }\n",
       "\n",
       "    .dataframe tbody tr th {\n",
       "        vertical-align: top;\n",
       "    }\n",
       "\n",
       "    .dataframe thead th {\n",
       "        text-align: right;\n",
       "    }\n",
       "</style>\n",
       "<table border=\"1\" class=\"dataframe\">\n",
       "  <thead>\n",
       "    <tr style=\"text-align: right;\">\n",
       "      <th></th>\n",
       "      <th>name</th>\n",
       "      <th>platform</th>\n",
       "      <th>year_of_release</th>\n",
       "      <th>genre</th>\n",
       "      <th>na_sales</th>\n",
       "      <th>eu_sales</th>\n",
       "      <th>jp_sales</th>\n",
       "      <th>other_sales</th>\n",
       "      <th>critic_score</th>\n",
       "      <th>user_score</th>\n",
       "      <th>rating</th>\n",
       "      <th>total_sales</th>\n",
       "    </tr>\n",
       "  </thead>\n",
       "  <tbody>\n",
       "    <tr>\n",
       "      <th>31</th>\n",
       "      <td>Call of Duty: Black Ops 3</td>\n",
       "      <td>PS4</td>\n",
       "      <td>2015</td>\n",
       "      <td>Shooter</td>\n",
       "      <td>6.03</td>\n",
       "      <td>5.86</td>\n",
       "      <td>0.36</td>\n",
       "      <td>2.38</td>\n",
       "      <td>NaN</td>\n",
       "      <td>NaN</td>\n",
       "      <td>unknown</td>\n",
       "      <td>14.63</td>\n",
       "    </tr>\n",
       "    <tr>\n",
       "      <th>99</th>\n",
       "      <td>Call of Duty: Black Ops 3</td>\n",
       "      <td>XOne</td>\n",
       "      <td>2015</td>\n",
       "      <td>Shooter</td>\n",
       "      <td>4.59</td>\n",
       "      <td>2.11</td>\n",
       "      <td>0.01</td>\n",
       "      <td>0.68</td>\n",
       "      <td>NaN</td>\n",
       "      <td>NaN</td>\n",
       "      <td>unknown</td>\n",
       "      <td>7.39</td>\n",
       "    </tr>\n",
       "    <tr>\n",
       "      <th>1038</th>\n",
       "      <td>Call of Duty: Black Ops 3</td>\n",
       "      <td>X360</td>\n",
       "      <td>2015</td>\n",
       "      <td>Shooter</td>\n",
       "      <td>1.14</td>\n",
       "      <td>0.40</td>\n",
       "      <td>0.00</td>\n",
       "      <td>0.16</td>\n",
       "      <td>NaN</td>\n",
       "      <td>NaN</td>\n",
       "      <td>unknown</td>\n",
       "      <td>1.70</td>\n",
       "    </tr>\n",
       "    <tr>\n",
       "      <th>1051</th>\n",
       "      <td>Call of Duty: Black Ops 3</td>\n",
       "      <td>PS3</td>\n",
       "      <td>2015</td>\n",
       "      <td>Shooter</td>\n",
       "      <td>0.49</td>\n",
       "      <td>0.87</td>\n",
       "      <td>0.07</td>\n",
       "      <td>0.26</td>\n",
       "      <td>NaN</td>\n",
       "      <td>NaN</td>\n",
       "      <td>unknown</td>\n",
       "      <td>1.69</td>\n",
       "    </tr>\n",
       "    <tr>\n",
       "      <th>6363</th>\n",
       "      <td>Call of Duty: Black Ops 3</td>\n",
       "      <td>PC</td>\n",
       "      <td>2015</td>\n",
       "      <td>Shooter</td>\n",
       "      <td>0.00</td>\n",
       "      <td>0.25</td>\n",
       "      <td>0.00</td>\n",
       "      <td>0.01</td>\n",
       "      <td>NaN</td>\n",
       "      <td>NaN</td>\n",
       "      <td>unknown</td>\n",
       "      <td>0.26</td>\n",
       "    </tr>\n",
       "  </tbody>\n",
       "</table>\n",
       "</div>"
      ],
      "text/plain": [
       "                           name platform  year_of_release    genre  na_sales  \\\n",
       "31    Call of Duty: Black Ops 3      PS4             2015  Shooter      6.03   \n",
       "99    Call of Duty: Black Ops 3     XOne             2015  Shooter      4.59   \n",
       "1038  Call of Duty: Black Ops 3     X360             2015  Shooter      1.14   \n",
       "1051  Call of Duty: Black Ops 3      PS3             2015  Shooter      0.49   \n",
       "6363  Call of Duty: Black Ops 3       PC             2015  Shooter      0.00   \n",
       "\n",
       "      eu_sales  jp_sales  other_sales  critic_score  user_score   rating  \\\n",
       "31        5.86      0.36         2.38           NaN         NaN  unknown   \n",
       "99        2.11      0.01         0.68           NaN         NaN  unknown   \n",
       "1038      0.40      0.00         0.16           NaN         NaN  unknown   \n",
       "1051      0.87      0.07         0.26           NaN         NaN  unknown   \n",
       "6363      0.25      0.00         0.01           NaN         NaN  unknown   \n",
       "\n",
       "      total_sales  \n",
       "31          14.63  \n",
       "99           7.39  \n",
       "1038         1.70  \n",
       "1051         1.69  \n",
       "6363         0.26  "
      ]
     },
     "execution_count": 48,
     "metadata": {},
     "output_type": "execute_result"
    }
   ],
   "source": [
    "CoD = past_three_yrs[past_three_yrs['name'] == 'Call of Duty: Black Ops 3']\n",
    "CoD"
   ]
  },
  {
   "cell_type": "code",
   "execution_count": 49,
   "id": "ec3f17b0",
   "metadata": {},
   "outputs": [
    {
     "data": {
      "text/plain": [
       "platform\n",
       "PS4     288.15\n",
       "XOne    140.36\n",
       "3DS      86.68\n",
       "PS3      68.18\n",
       "X360     48.22\n",
       "Name: total_sales, dtype: float64"
      ]
     },
     "execution_count": 49,
     "metadata": {},
     "output_type": "execute_result"
    }
   ],
   "source": [
    "pl_grow = pl_grow.head()\n",
    "pl_grow"
   ]
  },
  {
   "cell_type": "code",
   "execution_count": 50,
   "id": "d6c8b50d",
   "metadata": {},
   "outputs": [
    {
     "data": {
      "text/html": [
       "<div>\n",
       "<style scoped>\n",
       "    .dataframe tbody tr th:only-of-type {\n",
       "        vertical-align: middle;\n",
       "    }\n",
       "\n",
       "    .dataframe tbody tr th {\n",
       "        vertical-align: top;\n",
       "    }\n",
       "\n",
       "    .dataframe thead th {\n",
       "        text-align: right;\n",
       "    }\n",
       "</style>\n",
       "<table border=\"1\" class=\"dataframe\">\n",
       "  <thead>\n",
       "    <tr style=\"text-align: right;\">\n",
       "      <th></th>\n",
       "      <th>name</th>\n",
       "      <th>platform</th>\n",
       "      <th>year_of_release</th>\n",
       "      <th>genre</th>\n",
       "      <th>na_sales</th>\n",
       "      <th>eu_sales</th>\n",
       "      <th>jp_sales</th>\n",
       "      <th>other_sales</th>\n",
       "      <th>critic_score</th>\n",
       "      <th>user_score</th>\n",
       "      <th>rating</th>\n",
       "      <th>total_sales</th>\n",
       "    </tr>\n",
       "  </thead>\n",
       "  <tbody>\n",
       "    <tr>\n",
       "      <th>31</th>\n",
       "      <td>Call of Duty: Black Ops 3</td>\n",
       "      <td>PS4</td>\n",
       "      <td>2015</td>\n",
       "      <td>Shooter</td>\n",
       "      <td>6.03</td>\n",
       "      <td>5.86</td>\n",
       "      <td>0.36</td>\n",
       "      <td>2.38</td>\n",
       "      <td>NaN</td>\n",
       "      <td>NaN</td>\n",
       "      <td>unknown</td>\n",
       "      <td>14.63</td>\n",
       "    </tr>\n",
       "    <tr>\n",
       "      <th>99</th>\n",
       "      <td>Call of Duty: Black Ops 3</td>\n",
       "      <td>XOne</td>\n",
       "      <td>2015</td>\n",
       "      <td>Shooter</td>\n",
       "      <td>4.59</td>\n",
       "      <td>2.11</td>\n",
       "      <td>0.01</td>\n",
       "      <td>0.68</td>\n",
       "      <td>NaN</td>\n",
       "      <td>NaN</td>\n",
       "      <td>unknown</td>\n",
       "      <td>7.39</td>\n",
       "    </tr>\n",
       "    <tr>\n",
       "      <th>1038</th>\n",
       "      <td>Call of Duty: Black Ops 3</td>\n",
       "      <td>X360</td>\n",
       "      <td>2015</td>\n",
       "      <td>Shooter</td>\n",
       "      <td>1.14</td>\n",
       "      <td>0.40</td>\n",
       "      <td>0.00</td>\n",
       "      <td>0.16</td>\n",
       "      <td>NaN</td>\n",
       "      <td>NaN</td>\n",
       "      <td>unknown</td>\n",
       "      <td>1.70</td>\n",
       "    </tr>\n",
       "    <tr>\n",
       "      <th>1051</th>\n",
       "      <td>Call of Duty: Black Ops 3</td>\n",
       "      <td>PS3</td>\n",
       "      <td>2015</td>\n",
       "      <td>Shooter</td>\n",
       "      <td>0.49</td>\n",
       "      <td>0.87</td>\n",
       "      <td>0.07</td>\n",
       "      <td>0.26</td>\n",
       "      <td>NaN</td>\n",
       "      <td>NaN</td>\n",
       "      <td>unknown</td>\n",
       "      <td>1.69</td>\n",
       "    </tr>\n",
       "  </tbody>\n",
       "</table>\n",
       "</div>"
      ],
      "text/plain": [
       "                           name platform  year_of_release    genre  na_sales  \\\n",
       "31    Call of Duty: Black Ops 3      PS4             2015  Shooter      6.03   \n",
       "99    Call of Duty: Black Ops 3     XOne             2015  Shooter      4.59   \n",
       "1038  Call of Duty: Black Ops 3     X360             2015  Shooter      1.14   \n",
       "1051  Call of Duty: Black Ops 3      PS3             2015  Shooter      0.49   \n",
       "\n",
       "      eu_sales  jp_sales  other_sales  critic_score  user_score   rating  \\\n",
       "31        5.86      0.36         2.38           NaN         NaN  unknown   \n",
       "99        2.11      0.01         0.68           NaN         NaN  unknown   \n",
       "1038      0.40      0.00         0.16           NaN         NaN  unknown   \n",
       "1051      0.87      0.07         0.26           NaN         NaN  unknown   \n",
       "\n",
       "      total_sales  \n",
       "31          14.63  \n",
       "99           7.39  \n",
       "1038         1.70  \n",
       "1051         1.69  "
      ]
     },
     "execution_count": 50,
     "metadata": {},
     "output_type": "execute_result"
    }
   ],
   "source": [
    "top_5_platforms = ['PS4', 'XOne', '3DS', 'PS3', 'X360']\n",
    "\n",
    "CoD = past_three_yrs[(past_three_yrs['name'] == 'Call of Duty: Black Ops 3') & (past_three_yrs['platform'].isin(top_5_platforms))]\n",
    "CoD"
   ]
  },
  {
   "cell_type": "code",
   "execution_count": 51,
   "id": "e6831ef5",
   "metadata": {},
   "outputs": [
    {
     "data": {
      "image/png": "[encoded data removed]",
      "text/plain": [
       "<Figure size 432x288 with 1 Axes>"
      ]
     },
     "metadata": {
      "needs_background": "light"
     },
     "output_type": "display_data"
    }
   ],
   "source": [
    "CoD_sales = CoD.groupby('platform')['total_sales'].sum()\n",
    "plt.bar(CoD_sales.index, CoD_sales.values)\n",
    "plt.title('Total Sales for Call of Duty: Black Ops 3 on Different Platforms')\n",
    "plt.xlabel('Platform')\n",
    "plt.ylabel('Total Sales (millions)')\n",
    "plt.show()"
   ]
  },
  {
   "cell_type": "markdown",
   "id": "90fdb80c",
   "metadata": {},
   "source": [
    "<div class=\"alert alert-info\">\n",
    "    In the call of duty example above. specific games seem like they are targeted to sell better for specific platforms then others. it could be mainy reasons for this. some platforms may have better advantages in some aspects paired with games. a platform could specialize in multiplayer maybe specific game titles will have more competitions on the platform which is popular or maybe a game is specifically known better to be played on one platform than another. none of it is bad it just depends on which niche market the game was going for and who their target demographic is.\n",
    "</div>"
   ]
  },
  {
   "cell_type": "code",
   "execution_count": 52,
   "id": "3104dee5",
   "metadata": {},
   "outputs": [
    {
     "data": {
      "text/plain": [
       "genre\n",
       "Action          199.36\n",
       "Shooter         170.94\n",
       "Sports          109.48\n",
       "Role-Playing    101.44\n",
       "Misc             37.55\n",
       "Fighting         28.22\n",
       "Racing           27.52\n",
       "Platform         18.09\n",
       "Adventure        17.55\n",
       "Simulation       13.13\n",
       "Strategy          3.96\n",
       "Puzzle            2.21\n",
       "Name: total_sales, dtype: float64"
      ]
     },
     "execution_count": 52,
     "metadata": {},
     "output_type": "execute_result"
    }
   ],
   "source": [
    "gen_sales = past_three_yrs.groupby('genre')['total_sales'].sum().sort_values(ascending=False)\n",
    "gen_sales"
   ]
  },
  {
   "cell_type": "code",
   "execution_count": 53,
   "id": "91539acc",
   "metadata": {
    "scrolled": false
   },
   "outputs": [
    {
     "data": {
      "image/png": "[encoded data removed]",
      "text/plain": [
       "<Figure size 1080x864 with 1 Axes>"
      ]
     },
     "metadata": {
      "needs_background": "light"
     },
     "output_type": "display_data"
    }
   ],
   "source": [
    "past_three_yrs.boxplot(column='total_sales', by='genre', figsize= (15,12))\n",
    "plt.ylabel('Sales  by  Millions')\n",
    "\n",
    "plt.show()"
   ]
  },
  {
   "cell_type": "markdown",
   "id": "c789e749",
   "metadata": {},
   "source": [
    "<div class=\"alert alert-info\">\n",
    "    From this data above the action games do actually make the most sales but its because they make the most games. the people are willing to pay for shooter games because they are more scarce which leads them to have fewer games but yet way more sales.\n",
    "The median for sales of shooter is the highest median. Role-playing, Adventure, and Sports follow, in production and sales The box plot shows the distribution of sales. which in turn makes shooters great to add to our store in the upcoming year just because if one comes out there is a great chance it will yield great revenue. \n",
    "</div>"
   ]
  },
  {
   "cell_type": "code",
   "execution_count": 54,
   "id": "b9e1a64f",
   "metadata": {},
   "outputs": [
    {
     "data": {
      "text/plain": [
       "genre\n",
       "Action          199.36\n",
       "Shooter         170.94\n",
       "Sports          109.48\n",
       "Role-Playing    101.44\n",
       "Misc             37.55\n",
       "Name: total_sales, dtype: float64"
      ]
     },
     "execution_count": 54,
     "metadata": {},
     "output_type": "execute_result"
    }
   ],
   "source": [
    "top_gen_sales = gen_sales.head()\n",
    "top_gen_sales"
   ]
  },
  {
   "cell_type": "code",
   "execution_count": 55,
   "id": "62bd4351",
   "metadata": {},
   "outputs": [
    {
     "data": {
      "image/png": "[encoded data removed]",
      "text/plain": [
       "<Figure size 432x288 with 1 Axes>"
      ]
     },
     "metadata": {
      "needs_background": "light"
     },
     "output_type": "display_data"
    }
   ],
   "source": [
    "top_gen_sales = gen_sales.head().index.tolist()\n",
    "top_gen_df = past_three_yrs[past_three_yrs['genre'].isin(top_gen_sales)]\n",
    "\n",
    "\n",
    "plt.hist(top_gen_df['genre'], bins=20, weights=top_gen_df['total_sales'])\n",
    "plt.title('Sales by Genre')\n",
    "plt.xlabel('Genre')\n",
    "plt.ylabel('Total Sales')\n",
    "plt.show()"
   ]
  },
  {
   "cell_type": "markdown",
   "id": "4505af54",
   "metadata": {},
   "source": [
    "<div class=\"alert alert-info\">\n",
    "    From this data above these are the top 5 categories where action is a very broad identity of games. which can be played in many variations and styles which draws audiences of all ages as well as sports. shooters start getting into more of a target audience but with the growth of professional play as well\n",
    "</div>"
   ]
  },
  {
   "cell_type": "code",
   "execution_count": 56,
   "id": "f2d02f7d",
   "metadata": {},
   "outputs": [
    {
     "data": {
      "text/plain": [
       "genre\n",
       "Puzzle         2.21\n",
       "Strategy       3.96\n",
       "Simulation    13.13\n",
       "Adventure     17.55\n",
       "Platform      18.09\n",
       "Name: total_sales, dtype: float64"
      ]
     },
     "execution_count": 56,
     "metadata": {},
     "output_type": "execute_result"
    }
   ],
   "source": [
    "bot_gen = gen_sales.nsmallest()\n",
    "bot_gen"
   ]
  },
  {
   "cell_type": "code",
   "execution_count": 57,
   "id": "7bca8647",
   "metadata": {},
   "outputs": [
    {
     "data": {
      "image/png": "[encoded data removed]",
      "text/plain": [
       "<Figure size 432x288 with 1 Axes>"
      ]
     },
     "metadata": {
      "needs_background": "light"
     },
     "output_type": "display_data"
    }
   ],
   "source": [
    "bot_gen = gen_sales.nsmallest().index.tolist()\n",
    "\n",
    "bot_gen_df = past_three_yrs[past_three_yrs['genre'].isin(bot_gen)]\n",
    "\n",
    "plt.hist(bot_gen_df['genre'], bins=20, weights=bot_gen_df['total_sales'])\n",
    "plt.title('Sales by Genre')\n",
    "plt.xlabel('Genre')\n",
    "plt.ylabel('Total Sales')\n",
    "plt.show()\n",
    "\n"
   ]
  },
  {
   "cell_type": "markdown",
   "id": "a922421c",
   "metadata": {},
   "source": [
    "<div class=\"alert alert-info\">\n",
    " in the graph above. its the bottom 5 genres each of them are very niched and strategy is the lowest just because it could be only capturing a very specific target audience. \n",
    "</div>"
   ]
  },
  {
   "cell_type": "code",
   "execution_count": 58,
   "id": "a090fb43",
   "metadata": {
    "scrolled": true
   },
   "outputs": [
    {
     "data": {
      "text/plain": [
       "platform\n",
       "PS4     98.61\n",
       "XOne    81.27\n",
       "X360    28.30\n",
       "3DS     22.64\n",
       "PS3     22.05\n",
       "Name: na_sales, dtype: float64"
      ]
     },
     "metadata": {},
     "output_type": "display_data"
    },
    {
     "data": {
      "text/plain": [
       "platform\n",
       "PS4     130.04\n",
       "XOne     46.25\n",
       "PS3      25.54\n",
       "PC       17.97\n",
       "3DS      16.12\n",
       "Name: eu_sales, dtype: float64"
      ]
     },
     "metadata": {},
     "output_type": "display_data"
    },
    {
     "data": {
      "text/plain": [
       "platform\n",
       "3DS     44.24\n",
       "PS4     15.02\n",
       "PSV     14.54\n",
       "PS3     11.22\n",
       "WiiU     7.31\n",
       "Name: jp_sales, dtype: float64"
      ]
     },
     "metadata": {},
     "output_type": "display_data"
    }
   ],
   "source": [
    "na_plat = past_three_yrs.groupby('platform')['na_sales'].sum().sort_values(ascending=False).head(5)\n",
    "eu_plat = past_three_yrs.groupby('platform')['eu_sales'].sum().sort_values(ascending=False).head(5)\n",
    "jap_plat = past_three_yrs.groupby('platform')['jp_sales'].sum().sort_values(ascending=False).head(5)\n",
    "\n",
    "display(na_plat)\n",
    "display(eu_plat)\n",
    "display(jap_plat)"
   ]
  },
  {
   "cell_type": "code",
   "execution_count": 59,
   "id": "7882e20f",
   "metadata": {},
   "outputs": [
    {
     "data": {
      "image/png": "[encoded data removed]",
      "text/plain": [
       "<Figure size 576x720 with 3 Axes>"
      ]
     },
     "metadata": {
      "needs_background": "light"
     },
     "output_type": "display_data"
    }
   ],
   "source": [
    "\n",
    "# Platforms by region\n",
    "na_plat = past_three_yrs.groupby('platform')['na_sales'].sum().sort_values(ascending=False).head(5)\n",
    "eu_plat = past_three_yrs.groupby('platform')['eu_sales'].sum().sort_values(ascending=False).head(5)\n",
    "jap_plat = past_three_yrs.groupby('platform')['jp_sales'].sum().sort_values(ascending=False).head(5)\n",
    "\n",
    "# Create figure and axis objects\n",
    "fig, (ax1, ax2, ax3) = plt.subplots(nrows=3, figsize=(8, 10))\n",
    "\n",
    "# North America Platforms\n",
    "ax1.bar(na_plat.index, na_plat.values, color='red', alpha=0.7)\n",
    "ax1.set_ylabel('Total Sales (millions)')\n",
    "ax1.set_title('Top 5 Platforms in North America')\n",
    "\n",
    "# Europe Platforms\n",
    "ax2.bar(eu_plat.index, eu_plat.values, color='blue', alpha=0.7)\n",
    "ax2.set_ylabel('Total Sales (millions)')\n",
    "ax2.set_title('Top 5 Platforms in Europe')\n",
    "\n",
    "# Japan Platforms\n",
    "ax3.bar(jap_plat.index, jap_plat.values, color='green', alpha=0.7)\n",
    "ax3.set_ylabel('Total Sales (millions)')\n",
    "ax3.set_title('Top 5 Platforms in Japan')\n",
    "\n",
    "# Adjust layout and show plot\n",
    "plt.tight_layout()\n",
    "plt.show()"
   ]
  },
  {
   "cell_type": "markdown",
   "id": "ceefa3ef",
   "metadata": {},
   "source": [
    "<div class=\"alert alert-info\">\n",
    "   From the data above the NA region seems to have much greater sales. which could mean that the market is just that much larger\n",
    "    then the eu and jp markets or that the video game industry is more prominent within that region then the others. futher digging would be required in order to really get into the data to see which one of these it truely is. \n",
    "</div>"
   ]
  },
  {
   "cell_type": "code",
   "execution_count": 60,
   "id": "33f3ee26",
   "metadata": {},
   "outputs": [
    {
     "data": {
      "image/png": "[encoded data removed]",
      "text/plain": [
       "<Figure size 432x288 with 1 Axes>"
      ]
     },
     "metadata": {
      "needs_background": "light"
     },
     "output_type": "display_data"
    },
    {
     "data": {
      "image/png": "[encoded data removed]",
      "text/plain": [
       "<Figure size 432x288 with 1 Axes>"
      ]
     },
     "metadata": {
      "needs_background": "light"
     },
     "output_type": "display_data"
    },
    {
     "data": {
      "image/png": "[encoded data removed]",
      "text/plain": [
       "<Figure size 432x288 with 1 Axes>"
      ]
     },
     "metadata": {
      "needs_background": "light"
     },
     "output_type": "display_data"
    }
   ],
   "source": [
    "fig, (ax1) = plt.subplots(nrows=1, figsize=(6, 4))\n",
    "\n",
    "na_genres = past_three_yrs.groupby('genre')['na_sales'].sum().sort_values(ascending=False).head(5)\n",
    "ax1.bar(np.arange(len(na_genres)), na_genres.values, color='red', alpha=0.7)\n",
    "ax1.set_xticks(np.arange(len(na_genres)))\n",
    "ax1.set_xticklabels(na_genres.index)\n",
    "ax1.set_ylabel('Total Sales (millions)')\n",
    "ax1.set_title('Top 5 Genres in North America')\n",
    "\n",
    "# Adjust layout and show plot\n",
    "plt.tight_layout()\n",
    "plt.show()\n",
    "\n",
    "\n",
    "# Create figure and axis objects for EU sales by genre\n",
    "fig, (ax2) = plt.subplots(nrows=1, figsize=(6, 4))\n",
    "\n",
    "eu_genres = past_three_yrs.groupby('genre')['eu_sales'].sum().sort_values(ascending=False).head(5)\n",
    "ax2.bar(np.arange(len(eu_genres)), eu_genres.values, color='blue', alpha=0.7)\n",
    "ax2.set_xticks(np.arange(len(eu_genres)))\n",
    "ax2.set_xticklabels(eu_genres.index)\n",
    "ax2.set_ylabel('Total Sales (millions)')\n",
    "ax2.set_title('Top 5 Genres in Europe')\n",
    "\n",
    "# Adjust layout and show plot\n",
    "plt.tight_layout()\n",
    "plt.show()\n",
    "\n",
    "\n",
    "# Create figure and axis objects for JP sales by genre\n",
    "fig, (ax3) = plt.subplots(nrows=1, figsize=(6, 4))\n",
    "\n",
    "jp_genres = past_three_yrs.groupby('genre')['jp_sales'].sum().sort_values(ascending=False).head(5)\n",
    "ax3.bar(np.arange(len(jp_genres)), jp_genres.values, color='green', alpha=0.7)\n",
    "ax3.set_xticks(np.arange(len(jp_genres)))\n",
    "ax3.set_xticklabels(jp_genres.index)\n",
    "ax3.set_ylabel('Total Sales (millions)')\n",
    "ax3.set_title('Top 5 Genres in Japan')\n",
    "\n",
    "# Adjust layout and show plot\n",
    "plt.tight_layout()\n",
    "plt.show()"
   ]
  },
  {
   "cell_type": "code",
   "execution_count": 61,
   "id": "2975fda1",
   "metadata": {},
   "outputs": [
    {
     "data": {
      "image/png": "[encoded data removed]",
      "text/plain": [
       "<Figure size 432x288 with 1 Axes>"
      ]
     },
     "metadata": {
      "needs_background": "light"
     },
     "output_type": "display_data"
    },
    {
     "data": {
      "image/png": "[encoded data removed]",
      "text/plain": [
       "<Figure size 432x288 with 1 Axes>"
      ]
     },
     "metadata": {
      "needs_background": "light"
     },
     "output_type": "display_data"
    },
    {
     "data": {
      "image/png": "[encoded data removed]",
      "text/plain": [
       "<Figure size 432x288 with 1 Axes>"
      ]
     },
     "metadata": {
      "needs_background": "light"
     },
     "output_type": "display_data"
    }
   ],
   "source": [
    "# Create figure and axis objects for NA sales by genre\n",
    "fig, (ax1) = plt.subplots(nrows=1, figsize=(6, 4))\n",
    "\n",
    "na_genres = past_three_yrs.groupby('genre')['na_sales'].sum().sort_values(ascending=False).head(5)\n",
    "ax1.bar(np.arange(len(na_genres)), na_genres.values, color='red', alpha=0.7)\n",
    "ax1.set_xticks(np.arange(len(na_genres)))\n",
    "ax1.set_xticklabels(na_genres.index)\n",
    "ax1.set_ylabel('Total Sales (millions)')\n",
    "ax1.set_title('Top 5 Genres in North America')\n",
    "\n",
    "# Adjust layout and show plot\n",
    "plt.tight_layout()\n",
    "plt.show()\n",
    "\n",
    "\n",
    "# Create figure and axis objects for EU sales by genre\n",
    "fig, (ax2) = plt.subplots(nrows=1, figsize=(6, 4))\n",
    "\n",
    "eu_genres = past_three_yrs.groupby('genre')['eu_sales'].sum().sort_values(ascending=False).head(5)\n",
    "ax2.bar(np.arange(len(eu_genres)), eu_genres.values, color='blue', alpha=0.7)\n",
    "ax2.set_xticks(np.arange(len(eu_genres)))\n",
    "ax2.set_xticklabels(eu_genres.index)\n",
    "ax2.set_ylabel('Total Sales (millions)')\n",
    "ax2.set_title('Top 5 Genres in Europe')\n",
    "\n",
    "# Adjust layout and show plot\n",
    "plt.tight_layout()\n",
    "plt.show()\n",
    "\n",
    "\n",
    "# Create figure and axis objects for JP sales by genre\n",
    "fig, (ax3) = plt.subplots(nrows=1, figsize=(6, 4))\n",
    "\n",
    "jp_genres = past_three_yrs.groupby('genre')['jp_sales'].sum().sort_values(ascending=False).head(5)\n",
    "ax3.bar(np.arange(len(jp_genres)), jp_genres.values, color='green', alpha=0.7)\n",
    "ax3.set_xticks(np.arange(len(jp_genres)))\n",
    "ax3.set_xticklabels(jp_genres.index)\n",
    "ax3.set_ylabel('Total Sales (millions)')\n",
    "ax3.set_title('Top 5 Genres in Japan')\n",
    "\n",
    "# Adjust layout and show plot\n",
    "plt.tight_layout()\n",
    "plt.show()\n"
   ]
  },
  {
   "cell_type": "markdown",
   "id": "cf0cf196",
   "metadata": {},
   "source": [
    "<div class=\"alert alert-info\">\n",
    " In the bar charts above It showcases that na and eu regions have the same first 3 then the eu enjoys racing games more then platform games . where the jp region people enjoy the role-playing games the most which is not even on the other two regions top 5. they also like action and sports games but they both drop down a spot rather then matching the na and eu regions they do also share a similarity the na region in the the 4th top genre of platform games. \n",
    "</div>"
   ]
  },
  {
   "cell_type": "code",
   "execution_count": 62,
   "id": "0371446c",
   "metadata": {
    "scrolled": true
   },
   "outputs": [
    {
     "data": {
      "image/png": "[encoded data removed]",
      "text/plain": [
       "<Figure size 432x576 with 1 Axes>"
      ]
     },
     "metadata": {
      "needs_background": "light"
     },
     "output_type": "display_data"
    }
   ],
   "source": [
    "\n",
    "# Ratings\n",
    "na_ratings = past_three_yrs.groupby('rating')['na_sales'].sum().sort_values(ascending=False)\n",
    "eu_ratings = past_three_yrs.groupby('rating')['eu_sales'].sum().sort_values(ascending=False)\n",
    "jp_ratings = past_three_yrs.groupby('rating')['jp_sales'].sum().sort_values(ascending=False)\n",
    "\n",
    "# Create figure and axis objects\n",
    "fig, (ax3) = plt.subplots(nrows=1, figsize=(6, 8))\n",
    "\n",
    "# Ratings\n",
    "\n",
    "ax3.bar(np.arange(len(na_ratings)), na_ratings.values, color='red', alpha=0.7, label='NA')\n",
    "ax3.bar(np.arange(len(eu_ratings))+0.1, eu_ratings.values, color='blue', alpha=0.7, label='EU')\n",
    "ax3.bar(np.arange(len(jp_ratings))+0.2, jp_ratings.values, color='green', alpha=0.7, label='JP')\n",
    "ax3.set_xticks(np.arange(len(na_ratings))+0.4)\n",
    "ax3.set_xticklabels(na_ratings.index)\n",
    "ax3.set_ylabel('Total Sales (millions)')\n",
    "ax3.set_title('Sales by Rating')\n",
    "ax3.legend()\n",
    "\n",
    "\n",
    "# Adjust layout and show plot\n",
    "plt.tight_layout()\n",
    "plt.show()"
   ]
  },
  {
   "cell_type": "code",
   "execution_count": 63,
   "id": "b44fa8ae",
   "metadata": {},
   "outputs": [
    {
     "data": {
      "image/png": "[encoded data removed]",
      "text/plain": [
       "<Figure size 576x720 with 3 Axes>"
      ]
     },
     "metadata": {
      "needs_background": "light"
     },
     "output_type": "display_data"
    }
   ],
   "source": [
    "na_ratings = past_three_yrs.groupby('rating')['na_sales'].sum().sort_values(ascending=False)\n",
    "eu_ratings = past_three_yrs.groupby('rating')['eu_sales'].sum().sort_values(ascending=False)\n",
    "jp_ratings = past_three_yrs.groupby('rating')['jp_sales'].sum().sort_values(ascending=False)\n",
    "\n",
    "# Create figure and axis objects\n",
    "fig, (ax1, ax2, ax3) = plt.subplots(nrows=3, figsize=(8, 10))\n",
    "\n",
    "# North America Ratings\n",
    "ax1.bar(na_ratings.index, na_ratings.values, color='red', alpha=0.7)\n",
    "ax1.set_ylabel('Total Sales (millions)')\n",
    "ax1.set_title('Sales by Rating in North America')\n",
    "\n",
    "# Europe Ratings\n",
    "ax2.bar(eu_ratings.index, eu_ratings.values, color='blue', alpha=0.7)\n",
    "ax2.set_ylabel('Total Sales (millions)')\n",
    "ax2.set_title('Sales by Rating in Europe')\n",
    "\n",
    "# Japan Ratings\n",
    "ax3.bar(jp_ratings.index, jp_ratings.values, color='green', alpha=0.7)\n",
    "ax3.set_ylabel('Total Sales (millions)')\n",
    "ax3.set_title('Sales by Rating in Japan')\n",
    "\n",
    "# Adjust layout and show plot\n",
    "plt.tight_layout()\n",
    "plt.show()\n",
    "\n",
    "\n",
    "\n",
    "\n",
    "\n",
    "\n",
    "\n"
   ]
  },
  {
   "cell_type": "markdown",
   "id": "3510a7d0",
   "metadata": {},
   "source": [
    "<div class=\"alert alert-info\">\n",
    "    Overall the esrb rating does not effect the sales in any region but the only one that may have a possiblity is the E rating\n",
    "    in jp reigion. \n",
    "</div>"
   ]
  },
  {
   "cell_type": "markdown",
   "id": "47013bb2",
   "metadata": {},
   "source": [
    "<div class=\"alert alert-info\">\n",
    "    <p>I realised this time looking at your example that what I was doing was the wrong approach. I then split each market into there own bar chart for each question that was being asked first I figured out the top platform for all 3 markets, then it was the top genres in all 3 markets then the sales by rating in all 3 main markets.  </p> \n",
    "</div>"
   ]
  },
  {
   "cell_type": "markdown",
   "id": "e9860be3",
   "metadata": {},
   "source": [
    "<div class=\"alert alert-info\">\n",
    "Null hypthothesis: The average user ratings of the Xbox One and PC platforms are the same.\n",
    "</div>\n",
    "\n"
   ]
  },
  {
   "cell_type": "code",
   "execution_count": 64,
   "id": "1e325f18",
   "metadata": {},
   "outputs": [
    {
     "name": "stdout",
     "output_type": "stream",
     "text": [
      "0.10450507919348415\n",
      "We cannot reject the hypothesis that the average user ratings of Xbox One and PC platforms are the same.\n"
     ]
    }
   ],
   "source": [
    "xone_data = past_three_yrs[past_three_yrs['platform'] == 'XOne']['user_score'].dropna()\n",
    "pc_data = past_three_yrs[past_three_yrs['platform'] == 'PC']['user_score'].dropna()\n",
    "\n",
    "alpha = 0.05\n",
    "results = stats.ttest_ind(xone_data, pc_data)\n",
    "p_value = results.pvalue\n",
    "\n",
    "print(p_value)\n",
    "\n",
    "if p_value >= alpha:\n",
    "    print(\"We cannot reject the hypothesis that the average user ratings of Xbox One and PC platforms are the same.\")\n",
    "else:\n",
    "    print(\"We reject the hypothesis of the average user ratings of Xbox One and PC platforms are the same.\")"
   ]
  },
  {
   "cell_type": "markdown",
   "id": "fc559f23",
   "metadata": {},
   "source": [
    "<div class=\"alert alert-info\">\n",
    "    <b>update3</b> this hypothesis of average user rating for both the xbox and pc platforms appear to be the same. Conclusion: We cannot reject the null hypothesis because the means of both platform user scores' are the same within 5%; pvalue is greater then the alpha.\n",
    "</div>\n",
    "\n"
   ]
  },
  {
   "cell_type": "markdown",
   "id": "19df1034",
   "metadata": {},
   "source": [
    "<div class=\"alert alert-info\">\n",
    "Null hypthothesis: The average user ratings for the Action and Sports genres are not different.\n",
    "</div>\n"
   ]
  },
  {
   "cell_type": "code",
   "execution_count": 65,
   "id": "f2c62a71",
   "metadata": {},
   "outputs": [
    {
     "name": "stdout",
     "output_type": "stream",
     "text": [
      "p-value: 1.1825550382644557e-14\n",
      "We reject the hypothesis\n"
     ]
    }
   ],
   "source": [
    "action = past_three_yrs[past_three_yrs['genre'] == 'Action']['user_score'].dropna()\n",
    "sports = past_three_yrs[past_three_yrs['genre'] == 'Sports']['user_score'].dropna()\n",
    "\n",
    "alpha = 0.05\n",
    "results = stats.ttest_ind(action, sports, equal_var=False)\n",
    "\n",
    "print('p-value:', results.pvalue)\n",
    "\n",
    "if results.pvalue < alpha:\n",
    "    print(\"We reject the hypothesis\")\n",
    "else:\n",
    "    print(\"We can't reject the hypothesis\")"
   ]
  },
  {
   "cell_type": "markdown",
   "id": "7da6fdae",
   "metadata": {},
   "source": [
    "<div class=\"alert alert-info\">\n",
    "     we rejected the second test the action sports genres are not different because we used the alpha  and if it was greater then or\n",
    "    equal to that .05% we accept it if it is less than or equal to we reject it. because we would need more evidence to support it.\n",
    "    \n",
    "</div>\n",
    "\n",
    " \n",
    "\n"
   ]
  },
  {
   "cell_type": "markdown",
   "id": "27799551",
   "metadata": {},
   "source": [
    "<div class=\"alert alert-info\">\n",
    "    <h2>Conclusion</h2>\n",
    "In this project we came to many conclusions. We found out that the most prominent platforms for the future were the ps4 and the xboxone. we figured out the most popular systems were xbox360, ps2, wii, ps3, and the ds they are all fading off now. then we found out that each region loves action and sports games are in the top 3 for all 3 regions. The na and eu region both have shooting games as there 3rd favorite and role-playing games is what people in Japan love to play the most. Racing games are the 4th most popular in the eu region and the na and jp region both enjoy platform games rather then racing. We also saw that esrbs dont really have a major impact on the sales results. These three markets were very interesting just look at the platforms the na and eu markets are very very similar.they have 4 of the same top platforms Ps4, xboxone, ps3, and 3ds the difference is that xbox360 faded faster in eu then it did in na's market. which lead to the eu enjoying pc games more. the jp market loved the 3ds the most, then the ps4, psv ps3 then the wiiu. no xbox system at all which I thought was very interesting and allows us to truely look at the upcoming market for the jp market in a very different light.  There is also not a major difference in the user rating for xbox or pc platforms and the average user rating in the sports and action genres are not that different after all. hopefully this helps the marketing team in projecting the 2017 results. I hope you enjoyed my updated results and that I made everything more accurate and got deeper into the data as you wanted. Thanks for taking the time to review my project!\n",
    "</div>\n",
    "\n",
    "\n"
   ]
  }
 ],
 "metadata": {
  "kernelspec": {
   "display_name": "Python 3 (ipykernel)",
   "language": "python",
   "name": "python3"
  },
  "language_info": {
   "codemirror_mode": {
    "name": "ipython",
    "version": 3
   },
   "file_extension": ".py",
   "mimetype": "text/x-python",
   "name": "python",
   "nbconvert_exporter": "python",
   "pygments_lexer": "ipython3",
   "version": "3.9.5"
  },
  "toc": {
   "base_numbering": 1,
   "nav_menu": {},
   "number_sections": true,
   "sideBar": true,
   "skip_h1_title": true,
   "title_cell": "Table of Contents",
   "title_sidebar": "Contents",
   "toc_cell": false,
   "toc_position": {
    "height": "calc(100% - 180px)",
    "left": "10px",
    "top": "150px",
    "width": "307.2px"
   },
   "toc_section_display": true,
   "toc_window_display": true
  }
 },
 "nbformat": 4,
 "nbformat_minor": 5
}
