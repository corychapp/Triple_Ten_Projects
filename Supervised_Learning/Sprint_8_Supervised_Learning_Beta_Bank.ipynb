{
 "cells": [
  {
   "cell_type": "markdown",
   "metadata": {},
   "source": [
    "<div class=\"alert alert-info\">\n",
    "    <h2>Project</h2>\n",
    "        <p>Here at Beta Bank we noticed customers are leaving little by little. Its cheaper to save the existing customers rather than trying to attract new ones so we are going to build a model that is going to predict whether a customer will leave the bank soon or not. The data we are going to be looking at is on clients past behavior and termination of contracts with the bank. So we are going to build the model with the maximum possible F1 score.</p>\n",
    "</div>"
   ]
  },
  {
   "cell_type": "markdown",
   "metadata": {},
   "source": [
    "<div class=\"alert alert-info\">\n",
    "    <h3>Goal</h3>\n",
    "        <p> To pass the project we need to achieve a F1 Score of atleast 0.59. We will check for the test set and additionally measure the Auc_Roc metric to compare it with the F1.</p>\n",
    "</div>"
   ]
  },
  {
   "cell_type": "code",
   "execution_count": 1,
   "metadata": {},
   "outputs": [],
   "source": [
    "import pandas as pd\n",
    "from sklearn.model_selection import train_test_split\n",
    "from sklearn.ensemble import RandomForestRegressor\n",
    "from sklearn.metrics import r2_score\n",
    "from sklearn.metrics import mean_absolute_error\n",
    "from sklearn.linear_model import LinearRegression\n",
    "from sklearn.preprocessing import StandardScaler\n",
    "from sklearn.linear_model import LogisticRegression\n",
    "from sklearn.metrics import f1_score\n",
    "from sklearn.metrics import accuracy_score\n",
    "from sklearn.metrics import recall_score\n",
    "from sklearn.metrics import precision_score\n",
    "from sklearn.utils import resample\n",
    "from sklearn.utils import shuffle\n",
    "from sklearn.metrics import roc_auc_score\n",
    "from sklearn.metrics import make_scorer\n",
    "from sklearn.tree import DecisionTreeClassifier\n",
    "from sklearn.ensemble import RandomForestClassifier\n",
    "from sklearn.model_selection import GridSearchCV\n",
    "from sklearn.metrics import roc_curve\n",
    "import matplotlib.pyplot as plt\n",
    "from sklearn.metrics import precision_recall_curve\n",
    "import numpy as np"
   ]
  },
  {
   "cell_type": "code",
   "execution_count": 2,
   "metadata": {},
   "outputs": [
    {
     "data": {
      "text/html": [
       "<div>\n",
       "<style scoped>\n",
       "    .dataframe tbody tr th:only-of-type {\n",
       "        vertical-align: middle;\n",
       "    }\n",
       "\n",
       "    .dataframe tbody tr th {\n",
       "        vertical-align: top;\n",
       "    }\n",
       "\n",
       "    .dataframe thead th {\n",
       "        text-align: right;\n",
       "    }\n",
       "</style>\n",
       "<table border=\"1\" class=\"dataframe\">\n",
       "  <thead>\n",
       "    <tr style=\"text-align: right;\">\n",
       "      <th></th>\n",
       "      <th>RowNumber</th>\n",
       "      <th>CustomerId</th>\n",
       "      <th>Surname</th>\n",
       "      <th>CreditScore</th>\n",
       "      <th>Geography</th>\n",
       "      <th>Gender</th>\n",
       "      <th>Age</th>\n",
       "      <th>Tenure</th>\n",
       "      <th>Balance</th>\n",
       "      <th>NumOfProducts</th>\n",
       "      <th>HasCrCard</th>\n",
       "      <th>IsActiveMember</th>\n",
       "      <th>EstimatedSalary</th>\n",
       "      <th>Exited</th>\n",
       "    </tr>\n",
       "  </thead>\n",
       "  <tbody>\n",
       "    <tr>\n",
       "      <th>0</th>\n",
       "      <td>1</td>\n",
       "      <td>15634602</td>\n",
       "      <td>Hargrave</td>\n",
       "      <td>619</td>\n",
       "      <td>France</td>\n",
       "      <td>Female</td>\n",
       "      <td>42</td>\n",
       "      <td>2.0</td>\n",
       "      <td>0.00</td>\n",
       "      <td>1</td>\n",
       "      <td>1</td>\n",
       "      <td>1</td>\n",
       "      <td>101348.88</td>\n",
       "      <td>1</td>\n",
       "    </tr>\n",
       "    <tr>\n",
       "      <th>1</th>\n",
       "      <td>2</td>\n",
       "      <td>15647311</td>\n",
       "      <td>Hill</td>\n",
       "      <td>608</td>\n",
       "      <td>Spain</td>\n",
       "      <td>Female</td>\n",
       "      <td>41</td>\n",
       "      <td>1.0</td>\n",
       "      <td>83807.86</td>\n",
       "      <td>1</td>\n",
       "      <td>0</td>\n",
       "      <td>1</td>\n",
       "      <td>112542.58</td>\n",
       "      <td>0</td>\n",
       "    </tr>\n",
       "    <tr>\n",
       "      <th>2</th>\n",
       "      <td>3</td>\n",
       "      <td>15619304</td>\n",
       "      <td>Onio</td>\n",
       "      <td>502</td>\n",
       "      <td>France</td>\n",
       "      <td>Female</td>\n",
       "      <td>42</td>\n",
       "      <td>8.0</td>\n",
       "      <td>159660.80</td>\n",
       "      <td>3</td>\n",
       "      <td>1</td>\n",
       "      <td>0</td>\n",
       "      <td>113931.57</td>\n",
       "      <td>1</td>\n",
       "    </tr>\n",
       "    <tr>\n",
       "      <th>3</th>\n",
       "      <td>4</td>\n",
       "      <td>15701354</td>\n",
       "      <td>Boni</td>\n",
       "      <td>699</td>\n",
       "      <td>France</td>\n",
       "      <td>Female</td>\n",
       "      <td>39</td>\n",
       "      <td>1.0</td>\n",
       "      <td>0.00</td>\n",
       "      <td>2</td>\n",
       "      <td>0</td>\n",
       "      <td>0</td>\n",
       "      <td>93826.63</td>\n",
       "      <td>0</td>\n",
       "    </tr>\n",
       "    <tr>\n",
       "      <th>4</th>\n",
       "      <td>5</td>\n",
       "      <td>15737888</td>\n",
       "      <td>Mitchell</td>\n",
       "      <td>850</td>\n",
       "      <td>Spain</td>\n",
       "      <td>Female</td>\n",
       "      <td>43</td>\n",
       "      <td>2.0</td>\n",
       "      <td>125510.82</td>\n",
       "      <td>1</td>\n",
       "      <td>1</td>\n",
       "      <td>1</td>\n",
       "      <td>79084.10</td>\n",
       "      <td>0</td>\n",
       "    </tr>\n",
       "  </tbody>\n",
       "</table>\n",
       "</div>"
      ],
      "text/plain": [
       "   RowNumber  CustomerId   Surname  CreditScore Geography  Gender  Age  \\\n",
       "0          1    15634602  Hargrave          619    France  Female   42   \n",
       "1          2    15647311      Hill          608     Spain  Female   41   \n",
       "2          3    15619304      Onio          502    France  Female   42   \n",
       "3          4    15701354      Boni          699    France  Female   39   \n",
       "4          5    15737888  Mitchell          850     Spain  Female   43   \n",
       "\n",
       "   Tenure    Balance  NumOfProducts  HasCrCard  IsActiveMember  \\\n",
       "0     2.0       0.00              1          1               1   \n",
       "1     1.0   83807.86              1          0               1   \n",
       "2     8.0  159660.80              3          1               0   \n",
       "3     1.0       0.00              2          0               0   \n",
       "4     2.0  125510.82              1          1               1   \n",
       "\n",
       "   EstimatedSalary  Exited  \n",
       "0        101348.88       1  \n",
       "1        112542.58       0  \n",
       "2        113931.57       1  \n",
       "3         93826.63       0  \n",
       "4         79084.10       0  "
      ]
     },
     "execution_count": 2,
     "metadata": {},
     "output_type": "execute_result"
    }
   ],
   "source": [
    "# downloading dataframe to read.\n",
    "df = pd.read_csv(\"/datasets/Churn.csv\")\n",
    "df.head()"
   ]
  },
  {
   "cell_type": "markdown",
   "metadata": {},
   "source": [
    "<div class=\"alert alert-info\">\n",
    "    <h4>Data Uploaded</h4>\n",
    "        <p> Data is successfully loaded and ready for further preparation</p>\n",
    "</div>"
   ]
  },
  {
   "cell_type": "code",
   "execution_count": 3,
   "metadata": {},
   "outputs": [
    {
     "data": {
      "text/plain": [
       "(10000, 14)"
      ]
     },
     "execution_count": 3,
     "metadata": {},
     "output_type": "execute_result"
    }
   ],
   "source": [
    "# checking how many rows and columns in dataframe\n",
    "df.shape"
   ]
  },
  {
   "cell_type": "code",
   "execution_count": 4,
   "metadata": {},
   "outputs": [
    {
     "name": "stdout",
     "output_type": "stream",
     "text": [
      "<class 'pandas.core.frame.DataFrame'>\n",
      "RangeIndex: 10000 entries, 0 to 9999\n",
      "Data columns (total 14 columns):\n",
      " #   Column           Non-Null Count  Dtype  \n",
      "---  ------           --------------  -----  \n",
      " 0   RowNumber        10000 non-null  int64  \n",
      " 1   CustomerId       10000 non-null  int64  \n",
      " 2   Surname          10000 non-null  object \n",
      " 3   CreditScore      10000 non-null  int64  \n",
      " 4   Geography        10000 non-null  object \n",
      " 5   Gender           10000 non-null  object \n",
      " 6   Age              10000 non-null  int64  \n",
      " 7   Tenure           9091 non-null   float64\n",
      " 8   Balance          10000 non-null  float64\n",
      " 9   NumOfProducts    10000 non-null  int64  \n",
      " 10  HasCrCard        10000 non-null  int64  \n",
      " 11  IsActiveMember   10000 non-null  int64  \n",
      " 12  EstimatedSalary  10000 non-null  float64\n",
      " 13  Exited           10000 non-null  int64  \n",
      "dtypes: float64(3), int64(8), object(3)\n",
      "memory usage: 1.1+ MB\n"
     ]
    }
   ],
   "source": [
    "# Looking at column names there non null count and dtype\n",
    "df.info()"
   ]
  },
  {
   "cell_type": "code",
   "execution_count": 5,
   "metadata": {},
   "outputs": [
    {
     "data": {
      "text/plain": [
       "0"
      ]
     },
     "execution_count": 5,
     "metadata": {},
     "output_type": "execute_result"
    }
   ],
   "source": [
    "# Looks for duplicates in the dataframe\n",
    "df.duplicated().sum()"
   ]
  },
  {
   "cell_type": "code",
   "execution_count": 6,
   "metadata": {},
   "outputs": [
    {
     "data": {
      "text/plain": [
       "RowNumber            0\n",
       "CustomerId           0\n",
       "Surname              0\n",
       "CreditScore          0\n",
       "Geography            0\n",
       "Gender               0\n",
       "Age                  0\n",
       "Tenure             909\n",
       "Balance              0\n",
       "NumOfProducts        0\n",
       "HasCrCard            0\n",
       "IsActiveMember       0\n",
       "EstimatedSalary      0\n",
       "Exited               0\n",
       "dtype: int64"
      ]
     },
     "execution_count": 6,
     "metadata": {},
     "output_type": "execute_result"
    }
   ],
   "source": [
    "# looking at missing values \n",
    "df.isna().sum()"
   ]
  },
  {
   "cell_type": "code",
   "execution_count": 7,
   "metadata": {},
   "outputs": [
    {
     "data": {
      "text/html": [
       "<div>\n",
       "<style scoped>\n",
       "    .dataframe tbody tr th:only-of-type {\n",
       "        vertical-align: middle;\n",
       "    }\n",
       "\n",
       "    .dataframe tbody tr th {\n",
       "        vertical-align: top;\n",
       "    }\n",
       "\n",
       "    .dataframe thead th {\n",
       "        text-align: right;\n",
       "    }\n",
       "</style>\n",
       "<table border=\"1\" class=\"dataframe\">\n",
       "  <thead>\n",
       "    <tr style=\"text-align: right;\">\n",
       "      <th></th>\n",
       "      <th>RowNumber</th>\n",
       "      <th>CustomerId</th>\n",
       "      <th>CreditScore</th>\n",
       "      <th>Age</th>\n",
       "      <th>Tenure</th>\n",
       "      <th>Balance</th>\n",
       "      <th>NumOfProducts</th>\n",
       "      <th>HasCrCard</th>\n",
       "      <th>IsActiveMember</th>\n",
       "      <th>EstimatedSalary</th>\n",
       "      <th>Exited</th>\n",
       "    </tr>\n",
       "  </thead>\n",
       "  <tbody>\n",
       "    <tr>\n",
       "      <th>count</th>\n",
       "      <td>10000.00000</td>\n",
       "      <td>1.000000e+04</td>\n",
       "      <td>10000.000000</td>\n",
       "      <td>10000.000000</td>\n",
       "      <td>9091.000000</td>\n",
       "      <td>10000.000000</td>\n",
       "      <td>10000.000000</td>\n",
       "      <td>10000.00000</td>\n",
       "      <td>10000.000000</td>\n",
       "      <td>10000.000000</td>\n",
       "      <td>10000.000000</td>\n",
       "    </tr>\n",
       "    <tr>\n",
       "      <th>mean</th>\n",
       "      <td>5000.50000</td>\n",
       "      <td>1.569094e+07</td>\n",
       "      <td>650.528800</td>\n",
       "      <td>38.921800</td>\n",
       "      <td>4.997690</td>\n",
       "      <td>76485.889288</td>\n",
       "      <td>1.530200</td>\n",
       "      <td>0.70550</td>\n",
       "      <td>0.515100</td>\n",
       "      <td>100090.239881</td>\n",
       "      <td>0.203700</td>\n",
       "    </tr>\n",
       "    <tr>\n",
       "      <th>std</th>\n",
       "      <td>2886.89568</td>\n",
       "      <td>7.193619e+04</td>\n",
       "      <td>96.653299</td>\n",
       "      <td>10.487806</td>\n",
       "      <td>2.894723</td>\n",
       "      <td>62397.405202</td>\n",
       "      <td>0.581654</td>\n",
       "      <td>0.45584</td>\n",
       "      <td>0.499797</td>\n",
       "      <td>57510.492818</td>\n",
       "      <td>0.402769</td>\n",
       "    </tr>\n",
       "    <tr>\n",
       "      <th>min</th>\n",
       "      <td>1.00000</td>\n",
       "      <td>1.556570e+07</td>\n",
       "      <td>350.000000</td>\n",
       "      <td>18.000000</td>\n",
       "      <td>0.000000</td>\n",
       "      <td>0.000000</td>\n",
       "      <td>1.000000</td>\n",
       "      <td>0.00000</td>\n",
       "      <td>0.000000</td>\n",
       "      <td>11.580000</td>\n",
       "      <td>0.000000</td>\n",
       "    </tr>\n",
       "    <tr>\n",
       "      <th>25%</th>\n",
       "      <td>2500.75000</td>\n",
       "      <td>1.562853e+07</td>\n",
       "      <td>584.000000</td>\n",
       "      <td>32.000000</td>\n",
       "      <td>2.000000</td>\n",
       "      <td>0.000000</td>\n",
       "      <td>1.000000</td>\n",
       "      <td>0.00000</td>\n",
       "      <td>0.000000</td>\n",
       "      <td>51002.110000</td>\n",
       "      <td>0.000000</td>\n",
       "    </tr>\n",
       "    <tr>\n",
       "      <th>50%</th>\n",
       "      <td>5000.50000</td>\n",
       "      <td>1.569074e+07</td>\n",
       "      <td>652.000000</td>\n",
       "      <td>37.000000</td>\n",
       "      <td>5.000000</td>\n",
       "      <td>97198.540000</td>\n",
       "      <td>1.000000</td>\n",
       "      <td>1.00000</td>\n",
       "      <td>1.000000</td>\n",
       "      <td>100193.915000</td>\n",
       "      <td>0.000000</td>\n",
       "    </tr>\n",
       "    <tr>\n",
       "      <th>75%</th>\n",
       "      <td>7500.25000</td>\n",
       "      <td>1.575323e+07</td>\n",
       "      <td>718.000000</td>\n",
       "      <td>44.000000</td>\n",
       "      <td>7.000000</td>\n",
       "      <td>127644.240000</td>\n",
       "      <td>2.000000</td>\n",
       "      <td>1.00000</td>\n",
       "      <td>1.000000</td>\n",
       "      <td>149388.247500</td>\n",
       "      <td>0.000000</td>\n",
       "    </tr>\n",
       "    <tr>\n",
       "      <th>max</th>\n",
       "      <td>10000.00000</td>\n",
       "      <td>1.581569e+07</td>\n",
       "      <td>850.000000</td>\n",
       "      <td>92.000000</td>\n",
       "      <td>10.000000</td>\n",
       "      <td>250898.090000</td>\n",
       "      <td>4.000000</td>\n",
       "      <td>1.00000</td>\n",
       "      <td>1.000000</td>\n",
       "      <td>199992.480000</td>\n",
       "      <td>1.000000</td>\n",
       "    </tr>\n",
       "  </tbody>\n",
       "</table>\n",
       "</div>"
      ],
      "text/plain": [
       "         RowNumber    CustomerId   CreditScore           Age       Tenure  \\\n",
       "count  10000.00000  1.000000e+04  10000.000000  10000.000000  9091.000000   \n",
       "mean    5000.50000  1.569094e+07    650.528800     38.921800     4.997690   \n",
       "std     2886.89568  7.193619e+04     96.653299     10.487806     2.894723   \n",
       "min        1.00000  1.556570e+07    350.000000     18.000000     0.000000   \n",
       "25%     2500.75000  1.562853e+07    584.000000     32.000000     2.000000   \n",
       "50%     5000.50000  1.569074e+07    652.000000     37.000000     5.000000   \n",
       "75%     7500.25000  1.575323e+07    718.000000     44.000000     7.000000   \n",
       "max    10000.00000  1.581569e+07    850.000000     92.000000    10.000000   \n",
       "\n",
       "             Balance  NumOfProducts    HasCrCard  IsActiveMember  \\\n",
       "count   10000.000000   10000.000000  10000.00000    10000.000000   \n",
       "mean    76485.889288       1.530200      0.70550        0.515100   \n",
       "std     62397.405202       0.581654      0.45584        0.499797   \n",
       "min         0.000000       1.000000      0.00000        0.000000   \n",
       "25%         0.000000       1.000000      0.00000        0.000000   \n",
       "50%     97198.540000       1.000000      1.00000        1.000000   \n",
       "75%    127644.240000       2.000000      1.00000        1.000000   \n",
       "max    250898.090000       4.000000      1.00000        1.000000   \n",
       "\n",
       "       EstimatedSalary        Exited  \n",
       "count     10000.000000  10000.000000  \n",
       "mean     100090.239881      0.203700  \n",
       "std       57510.492818      0.402769  \n",
       "min          11.580000      0.000000  \n",
       "25%       51002.110000      0.000000  \n",
       "50%      100193.915000      0.000000  \n",
       "75%      149388.247500      0.000000  \n",
       "max      199992.480000      1.000000  "
      ]
     },
     "execution_count": 7,
     "metadata": {},
     "output_type": "execute_result"
    }
   ],
   "source": [
    "df.describe()"
   ]
  },
  {
   "cell_type": "markdown",
   "metadata": {},
   "source": [
    "<div class=\"alert alert-info\">\n",
    "    <h3>Preliminary Data Conclusion</h3>\n",
    "        <p>The data above shows that there are 10000 customers with there behaviors and whether or not they exited the bank or not. Our target for this project is Exited. I am going to remove some columns that are redundant like RowNumber. Then CustomerId and Surname because they will not be useful features. The next thing we need to do is consider some options for the null values of Tenure and we should note that Tenure is the only column with missing values. Especially sense we are going to be using metrics like MSE. I will convert it to a int sense a float is not needed and I think using the mean to fill the missing values will not affect the models performance.</p>\n",
    "</div>"
   ]
  },
  {
   "cell_type": "markdown",
   "metadata": {},
   "source": [
    "<div class=\"alert alert-info\">\n",
    "    <h2>Data Prep</h2>\n",
    "        <p>Below I am preparing the data further</p>\n",
    "</div>"
   ]
  },
  {
   "cell_type": "code",
   "execution_count": 8,
   "metadata": {},
   "outputs": [
    {
     "name": "stdout",
     "output_type": "stream",
     "text": [
      "<class 'pandas.core.frame.DataFrame'>\n",
      "RangeIndex: 10000 entries, 0 to 9999\n",
      "Data columns (total 11 columns):\n",
      " #   Column           Non-Null Count  Dtype  \n",
      "---  ------           --------------  -----  \n",
      " 0   CreditScore      10000 non-null  int64  \n",
      " 1   Geography        10000 non-null  object \n",
      " 2   Gender           10000 non-null  object \n",
      " 3   Age              10000 non-null  int64  \n",
      " 4   Tenure           9091 non-null   float64\n",
      " 5   Balance          10000 non-null  float64\n",
      " 6   NumOfProducts    10000 non-null  int64  \n",
      " 7   HasCrCard        10000 non-null  int64  \n",
      " 8   IsActiveMember   10000 non-null  int64  \n",
      " 9   EstimatedSalary  10000 non-null  float64\n",
      " 10  Exited           10000 non-null  int64  \n",
      "dtypes: float64(3), int64(6), object(2)\n",
      "memory usage: 859.5+ KB\n"
     ]
    }
   ],
   "source": [
    "# remove row, CustomerId and Surname because they are unneccessary.\n",
    "df = df.drop(['RowNumber', 'CustomerId', 'Surname'], axis = 1)\n",
    "df.info()"
   ]
  },
  {
   "cell_type": "code",
   "execution_count": 9,
   "metadata": {},
   "outputs": [],
   "source": [
    "# fills in the missing data in the Tenure column to the mean.\n",
    "df['Tenure'] = df['Tenure'].fillna(df['Tenure'].mean())"
   ]
  },
  {
   "cell_type": "code",
   "execution_count": 10,
   "metadata": {},
   "outputs": [
    {
     "name": "stdout",
     "output_type": "stream",
     "text": [
      "<class 'pandas.core.frame.DataFrame'>\n",
      "RangeIndex: 10000 entries, 0 to 9999\n",
      "Data columns (total 11 columns):\n",
      " #   Column           Non-Null Count  Dtype  \n",
      "---  ------           --------------  -----  \n",
      " 0   CreditScore      10000 non-null  int64  \n",
      " 1   Geography        10000 non-null  object \n",
      " 2   Gender           10000 non-null  object \n",
      " 3   Age              10000 non-null  int64  \n",
      " 4   Tenure           10000 non-null  int64  \n",
      " 5   Balance          10000 non-null  float64\n",
      " 6   NumOfProducts    10000 non-null  int64  \n",
      " 7   HasCrCard        10000 non-null  int64  \n",
      " 8   IsActiveMember   10000 non-null  int64  \n",
      " 9   EstimatedSalary  10000 non-null  float64\n",
      " 10  Exited           10000 non-null  int64  \n",
      "dtypes: float64(2), int64(7), object(2)\n",
      "memory usage: 859.5+ KB\n"
     ]
    }
   ],
   "source": [
    "# changes the data type to int instead of float\n",
    "df['Tenure'] = df['Tenure'].astype(int)\n",
    "df.info()"
   ]
  },
  {
   "cell_type": "markdown",
   "metadata": {},
   "source": [
    "<div class=\"alert alert-info\">\n",
    "    <h3>Prep Conclusion</h3>\n",
    "        <p>I brought data to the formats I wanted. elminated redundant columns and filled in the missing values of the Tenure column.</p>\n",
    "</div>"
   ]
  },
  {
   "cell_type": "markdown",
   "metadata": {},
   "source": [
    "<div class=\"alert alert-info\">\n",
    "    <h2>Splitting Data</h2>\n",
    "        <p>Next I will be splitting the data</p>\n",
    "</div>"
   ]
  },
  {
   "cell_type": "code",
   "execution_count": 11,
   "metadata": {},
   "outputs": [],
   "source": [
    "scaler = StandardScaler()\n",
    "#One Hot Encoding\n",
    "# next creating a features dataframe and a target dataframe\n",
    "df = pd.get_dummies(df, drop_first=True)\n",
    "features = df.drop(columns=['Exited'])\n",
    "target = df['Exited']\n",
    "# we are going to take the now split data and place it into training, testing, and validation sets of the base dataframe. \n",
    "# 20% for testing and 80% for training. \n",
    "feat_train, feat_test, targ_train, targ_test = train_test_split(features, target, test_size=0.20, random_state=42)\n",
    "feat_train, feat_valid, targ_train, targ_valid = train_test_split(feat_train, targ_train, test_size=0.20, random_state=42)\n"
   ]
  },
  {
   "cell_type": "code",
   "execution_count": 12,
   "metadata": {},
   "outputs": [
    {
     "name": "stdout",
     "output_type": "stream",
     "text": [
      "(6400, 11)\n",
      "(6400,)\n",
      "(2000, 11)\n",
      "(2000,)\n",
      "(1600, 11)\n",
      "(1600,)\n"
     ]
    }
   ],
   "source": [
    "print(feat_train.shape)\n",
    "print(targ_train.shape)\n",
    "print(feat_test.shape)\n",
    "print(targ_test.shape)\n",
    "print(feat_valid.shape)\n",
    "print(targ_valid.shape)"
   ]
  },
  {
   "cell_type": "code",
   "execution_count": 13,
   "metadata": {},
   "outputs": [
    {
     "name": "stderr",
     "output_type": "stream",
     "text": [
      "/opt/conda/lib/python3.9/site-packages/pandas/core/indexing.py:1738: SettingWithCopyWarning: \n",
      "A value is trying to be set on a copy of a slice from a DataFrame.\n",
      "Try using .loc[row_indexer,col_indexer] = value instead\n",
      "\n",
      "See the caveats in the documentation: https://pandas.pydata.org/pandas-docs/stable/user_guide/indexing.html#returning-a-view-versus-a-copy\n",
      "  self._setitem_single_column(loc, value[:, i].tolist(), pi)\n"
     ]
    }
   ],
   "source": [
    "to_normalize = ['CreditScore', 'Age', 'Balance', 'EstimatedSalary', 'Tenure', 'NumOfProducts']\n",
    "scaler = StandardScaler()\n",
    "scaler.fit(feat_train[to_normalize])\n",
    "feat_train.loc[:,to_normalize] = scaler.transform(feat_train[to_normalize])\n",
    "feat_valid.loc[:,to_normalize] = scaler.transform(feat_valid[to_normalize])\n",
    "feat_test.loc[:,to_normalize] = scaler.transform(feat_test[to_normalize])"
   ]
  },
  {
   "cell_type": "markdown",
   "metadata": {},
   "source": [
    "<div class=\"alert alert-info\">\n",
    "    <h3>Splitting and OHE Summary</h3>\n",
    "        <p> We used One Hot Encoding it was required because the categorical variable words dont mean anything to the ML models. Allowing the inverse of each data type for example allowing both male and female columns to remain. that would damage our outcome since there is such a high correlation between them. So it just made a lot of sense to drop first then only let one remain. as well as the fact we dont need France, Germany and Spain columns sense a row not being 1 for Germany and Spain automatically makes it France. After splitting I checked to see if the split made sense and they do. The sample size is also very solid. So I normalized the numeric columns to try helping our evaluation metrics. </p>\n",
    "</div>"
   ]
  },
  {
   "cell_type": "markdown",
   "metadata": {},
   "source": [
    "<div class=\"alert alert-info\">\n",
    "    <h2>Checking For Imbalances</h2>\n",
    "        <p></p>\n",
    "</div>"
   ]
  },
  {
   "cell_type": "code",
   "execution_count": 14,
   "metadata": {},
   "outputs": [
    {
     "name": "stdout",
     "output_type": "stream",
     "text": [
      "2037\n",
      "7963\n"
     ]
    }
   ],
   "source": [
    "#First, let's look at the class imbalance (if there is any) briefly:\n",
    "print(df[df['Exited'] == 1]['Exited'].count())\n",
    "print(df[df['Exited'] == 0]['Exited'].count())"
   ]
  },
  {
   "cell_type": "markdown",
   "metadata": {},
   "source": [
    "<div class=\"alert alert-info\">\n",
    "    <h3>Imbalance Summary</h3>\n",
    "        <p>There is a huge imbalance very close to a 1:4 ratio. below I will be checking to see how much it affects our models performance.</p>\n",
    "</div>"
   ]
  },
  {
   "cell_type": "markdown",
   "metadata": {},
   "source": [
    "<div class=\"alert alert-info\">\n",
    "    <h2>Models</h2>\n",
    "        <p></p>\n",
    "</div>"
   ]
  },
  {
   "cell_type": "markdown",
   "metadata": {},
   "source": [
    "<div class=\"alert alert-info\">\n",
    "    <h3>Imbalanced Model</h3>\n",
    "        <p>First we are going to see how the Logistic Regression model operates with out us accounting for the imbalance like we didnt know the imbalance existed</p>\n",
    "</div>"
   ]
  },
  {
   "cell_type": "code",
   "execution_count": 15,
   "metadata": {},
   "outputs": [
    {
     "name": "stdout",
     "output_type": "stream",
     "text": [
      "Accuracy 0.811875\n",
      "f1 score: 0.31435079726651477\n",
      "AUC: 0.7872131375954607\n"
     ]
    }
   ],
   "source": [
    "#Let's pretend like we don't know anything about class imbalance:\n",
    "LogRegModImb = LogisticRegression(solver='liblinear', random_state=42)\n",
    "LogRegModImb.fit(feat_train,targ_train)\n",
    "print('Accuracy', LogRegModImb.score(feat_valid, targ_valid))\n",
    "print('f1 score:' ,f1_score(targ_valid, LogRegModImb.predict(feat_valid)))\n",
    "print('AUC:', roc_auc_score(targ_valid, LogRegModImb.predict_proba(feat_valid)[:,1]))"
   ]
  },
  {
   "cell_type": "markdown",
   "metadata": {},
   "source": [
    "<div class=\"alert alert-info\">\n",
    "    <h4>Imbalanced Model Summary</h4>\n",
    "        <p>I used Logistic Regression with the liblinear solver. When we do not account for the imbalance and use logistic regression our accuracy is 0.81, our f1 score is 0.31 and our AUC ends up being .79. With this imbalance we don't need to check the Random Forest and the Decision Tree because if the imbalance effects the results of the Logistic Regression it will definitely effect the Random Forest and the Decision Tree results sense they perform very poor on imbalanced datasets.</p>\n",
    "</div>"
   ]
  },
  {
   "cell_type": "markdown",
   "metadata": {},
   "source": [
    "<div class=\"alert alert-info\">\n",
    "    <h3>Logistic Regression Model</h3>\n",
    "        <p>First we are going to balance data and then see how the logisitic regression improves</p>\n",
    "</div>"
   ]
  },
  {
   "cell_type": "code",
   "execution_count": 16,
   "metadata": {},
   "outputs": [
    {
     "name": "stdout",
     "output_type": "stream",
     "text": [
      "Accuracy 0.731875\n",
      "f1 score: 0.5301204819277108\n",
      "AUC: 0.7895001093037949\n"
     ]
    }
   ],
   "source": [
    "LogRegModBal = LogisticRegression(solver='liblinear', random_state=42, class_weight='balanced')\n",
    "LogRegModBal.fit(feat_train,targ_train)\n",
    "print('Accuracy', LogRegModBal.score(feat_valid, targ_valid))\n",
    "print('f1 score:' ,f1_score(targ_valid, LogRegModBal.predict(feat_valid)))\n",
    "print('AUC:',roc_auc_score(targ_valid, LogRegModBal.predict_proba(feat_valid)[:,1]))"
   ]
  },
  {
   "cell_type": "markdown",
   "metadata": {},
   "source": [
    "<div class=\"alert alert-info\">\n",
    "    <h4>Logistic Regression Summary After Balanced</h4>\n",
    "        <p>When we account for the imbalance in the Logistic Regression We get an Accuracy of 0.73, a F1 score of 0.47 and a AUC of 0.79 The accuracy of the balanced logistic regression has gone down but the F1 score really improved the AUC was not really impacted. so we are going to do some strategies that account for the imbalancing. </p>\n",
    "</div>"
   ]
  },
  {
   "cell_type": "markdown",
   "metadata": {},
   "source": [
    "<div class=\"alert alert-info\">\n",
    "    <h3>Improving Model Quality</h3>\n",
    "        <p>I am going to use two approaches to fixing class imbalance.</p>\n",
    "</div>"
   ]
  },
  {
   "cell_type": "markdown",
   "metadata": {},
   "source": [
    "<div class=\"alert alert-info\">\n",
    "    <h3>Upsampling</h3>\n",
    "        <p></p>\n",
    "</div>"
   ]
  },
  {
   "cell_type": "code",
   "execution_count": 17,
   "metadata": {},
   "outputs": [
    {
     "name": "stdout",
     "output_type": "stream",
     "text": [
      "Accuracy 0.455\n",
      "f1 score: 0.41476510067114103\n",
      "AUC: 0.7900069906383103\n"
     ]
    }
   ],
   "source": [
    "#Upsampling function from exercise\n",
    "def upsample(features, target, repeat):\n",
    "    feat_zeros = features[target == 0]\n",
    "    feat_ones = features[target == 1]\n",
    "    targ_zeros = target[target == 0]\n",
    "    targ_ones = target[target == 1]\n",
    "\n",
    "    feat_upsampled = pd.concat([feat_zeros] + [feat_ones] * repeat)\n",
    "    targ_upsampled = pd.concat([targ_zeros] + [targ_ones] * repeat)\n",
    "    \n",
    "    feat_upsampled, targ_upsampled = shuffle(\n",
    "        feat_upsampled, targ_upsampled, random_state=42)\n",
    "    \n",
    "    return feat_upsampled, targ_upsampled\n",
    "\n",
    "feat_upsampled, targ_upsampled = upsample(feat_train, targ_train, 10)\n",
    "\n",
    "upsampled_LogReg_model =LogisticRegression(random_state=42,solver='liblinear')\n",
    "upsampled_LogReg_model.fit(feat_upsampled, targ_upsampled)\n",
    "upsampled_LogReg_predicted_valid = upsampled_LogReg_model.predict(feat_valid)\n",
    "\n",
    "\n",
    "\n",
    "\n",
    "print('Accuracy', upsampled_LogReg_model.score(feat_valid, targ_valid))\n",
    "print('f1 score:' ,f1_score(targ_valid, upsampled_LogReg_predicted_valid))\n",
    "print('AUC:',roc_auc_score(targ_valid, upsampled_LogReg_model.predict_proba(feat_valid)[:,1]))"
   ]
  },
  {
   "cell_type": "markdown",
   "metadata": {},
   "source": [
    "<div class=\"alert alert-info\">\n",
    "    <h4>Upsampling Summary</h4>\n",
    "        <p>Upsampling isn't as good as the built in balanced feature of the Logistic Regression model it really effected the Accuracy and the F1 score is only 0.39.</p>\n",
    "</div>"
   ]
  },
  {
   "cell_type": "markdown",
   "metadata": {},
   "source": [
    "<div class=\"alert alert-info\">\n",
    "    <h3>Downsampling</h3>\n",
    "        <p></p>\n",
    "</div>"
   ]
  },
  {
   "cell_type": "code",
   "execution_count": 18,
   "metadata": {},
   "outputs": [
    {
     "name": "stdout",
     "output_type": "stream",
     "text": [
      "Accuracy: 0.45\n",
      "F1: 0.4141145139813582\n",
      "AUC-ROC: 0.7856156205933154\n"
     ]
    }
   ],
   "source": [
    "#Downsampling function from exercise\n",
    "def downsample(features, target, fraction):\n",
    "    feat_zeros = features[target == 0]\n",
    "    feat_ones = features[target == 1]\n",
    "    targ_zeros = target[target == 0]\n",
    "    targ_ones = target[target == 1]\n",
    "\n",
    "    feat_downsampled = pd.concat(\n",
    "        [feat_zeros.sample(frac=fraction, random_state=42)] + [feat_ones])\n",
    "    targ_downsampled = pd.concat(\n",
    "        [targ_zeros.sample(frac=fraction, random_state=42)] + [targ_ones])\n",
    "    \n",
    "    feat_downsampled, targ_downsampled = shuffle(\n",
    "        feat_downsampled, targ_downsampled, random_state=42)\n",
    "    \n",
    "    return feat_downsampled, targ_downsampled\n",
    "\n",
    "feat_downsampled, targ_downsampled = downsample(feat_train, targ_train, 0.1)\n",
    "\n",
    "down_LogReg_model =LogisticRegression(random_state=42,solver='liblinear')\n",
    "down_LogReg_model.fit(feat_downsampled, targ_downsampled)\n",
    "down_LogReg_predicted_valid = down_LogReg_model.predict(feat_valid)\n",
    "\n",
    "print('Accuracy:', down_LogReg_model.score(feat_valid, targ_valid))\n",
    "print(\"F1:\", f1_score(targ_valid, down_LogReg_predicted_valid))\n",
    "print(\"AUC-ROC:\", roc_auc_score(targ_valid, down_LogReg_model.predict_proba(feat_valid)[:,1]))"
   ]
  },
  {
   "cell_type": "markdown",
   "metadata": {},
   "source": [
    "<div class=\"alert alert-info\">\n",
    "    <h4>Downsampling Summary</h4>\n",
    "        <p>The Down Sampling also isn't as good as the build in balanced feature of the Logistic Regression model and is very similar to the upsampling.</p>\n",
    "</div>"
   ]
  },
  {
   "cell_type": "markdown",
   "metadata": {},
   "source": [
    "<div class=\"alert alert-info\">\n",
    "    <h3>Decision Tree Model</h3>\n",
    "        <p></p>\n",
    "</div>"
   ]
  },
  {
   "cell_type": "code",
   "execution_count": 19,
   "metadata": {},
   "outputs": [
    {
     "name": "stdout",
     "output_type": "stream",
     "text": [
      "DecisionTreeClassifier(max_depth=6, random_state=42)\n",
      "Accuracy: 0.853125\n",
      "F1: 0.5093945720250522\n",
      "AUC-ROC: 0.8408188415719566\n"
     ]
    }
   ],
   "source": [
    "depth_param = {'max_depth':range(1,25)}\n",
    "DecTreeMod = DecisionTreeClassifier(random_state=42)\n",
    "DecTreeModOpt = GridSearchCV(DecTreeMod,depth_param)\n",
    "DecTreeModOpt.fit(feat_train, targ_train)\n",
    "print(DecTreeModOpt.best_estimator_)\n",
    "DecTreeModOpt_predicted_valid = DecTreeModOpt.predict(feat_valid)\n",
    "print('Accuracy:', DecTreeModOpt.score(feat_valid, targ_valid))\n",
    "print(\"F1:\", f1_score(targ_valid, DecTreeModOpt_predicted_valid))\n",
    "print(\"AUC-ROC:\", roc_auc_score(targ_valid, DecTreeModOpt.predict_proba(feat_valid)[:,1]))"
   ]
  },
  {
   "cell_type": "markdown",
   "metadata": {},
   "source": [
    "<div class=\"alert alert-info\">\n",
    "    <h4>Decision Tree Summary</h4>\n",
    "        <p>The Decision Tree with its optimized hyper parameters worked better then the balanced feature in the Logistic Regression model. The accuracy is 0.85, the Fl is 0.51 and the AUC is 0.84. </p>\n",
    "</div>"
   ]
  },
  {
   "cell_type": "markdown",
   "metadata": {},
   "source": [
    "<div class=\"alert alert-info\">\n",
    "    <h3>Random Forest Model</h3>\n",
    "        <p></p>\n",
    "</div>"
   ]
  },
  {
   "cell_type": "code",
   "execution_count": 20,
   "metadata": {},
   "outputs": [
    {
     "name": "stdout",
     "output_type": "stream",
     "text": [
      "RandomForestClassifier(max_depth=9, n_estimators=47, random_state=42)\n",
      "Accuracy 0.865625\n",
      "F1: 0.5725646123260437\n",
      "AUC-ROC: 0.8680787275596907\n"
     ]
    }
   ],
   "source": [
    "depth_param = {'max_depth':range(1,10), 'n_estimators':range(1,50)}\n",
    "RandForestMod = RandomForestClassifier(random_state=42)\n",
    "RandForestOpt = GridSearchCV(RandForestMod,depth_param)\n",
    "RandForestOpt.fit(feat_train, targ_train)\n",
    "print(RandForestOpt.best_estimator_)\n",
    "RandForestOpt_predicted_valid = RandForestOpt.predict(feat_valid)\n",
    "\n",
    "print('Accuracy', RandForestOpt.score(feat_valid, targ_valid))\n",
    "print(\"F1:\", f1_score(targ_valid, RandForestOpt_predicted_valid))\n",
    "print(\"AUC-ROC:\", roc_auc_score(targ_valid, RandForestOpt.predict_proba(feat_valid)[:,1]))"
   ]
  },
  {
   "cell_type": "markdown",
   "metadata": {},
   "source": [
    "<div class=\"alert alert-info\">\n",
    "    <h4>Random Forest Summary</h4>\n",
    "        <p>Random Forest gave us the best F1 score so far at 0.57 it took a very long time to run this code. If the run time is a priority the parameter space needs to be greatly reduced. There is an issue that is encountered here though. We need a f1 score of atleast 0.59 and we already have done an extensive search over a huge parameter space. So I am going to keep one parameter as a constant and increase the range of the range of the n_estimator and try again. The most important part is I will use the class weight = balanced since increasing the parameter space alone is most likely not going to increase the f1 score by much.</p>\n",
    "</div>"
   ]
  },
  {
   "cell_type": "markdown",
   "metadata": {},
   "source": [
    "<div class=\"alert alert-info\">\n",
    "    <h3>Random Forest 2nd Model</h3>\n",
    "        <p></p>\n",
    "</div>"
   ]
  },
  {
   "cell_type": "code",
   "execution_count": 21,
   "metadata": {},
   "outputs": [
    {
     "name": "stdout",
     "output_type": "stream",
     "text": [
      "RandomForestClassifier(class_weight='balanced', max_depth=8, n_estimators=34,\n",
      "                       random_state=42)\n",
      "Accuracy: 0.833125\n",
      "F1: 0.6337448559670782\n",
      "AUC-ROC: 0.8711200155667822\n"
     ]
    }
   ],
   "source": [
    "depth_param = {'n_estimators':range(1,200)}\n",
    "RandForestMod = RandomForestClassifier(random_state=42, max_depth = 8,class_weight='balanced')\n",
    "RandForestOpt = GridSearchCV(RandForestMod, depth_param)\n",
    "RandForestOpt.fit(feat_train, targ_train)\n",
    "print(RandForestOpt.best_estimator_)\n",
    "RandForestOpt_predicted_valid = RandForestOpt.predict(feat_valid)\n",
    "\n",
    "print('Accuracy:', RandForestOpt.score(feat_valid, targ_valid))\n",
    "print(\"F1:\", f1_score(targ_valid, RandForestOpt_predicted_valid))\n",
    "print(\"AUC-ROC:\", roc_auc_score(targ_valid, RandForestOpt.predict_proba(feat_valid)[:,1]))"
   ]
  },
  {
   "cell_type": "markdown",
   "metadata": {},
   "source": [
    "<div class=\"alert alert-info\">\n",
    "    <h4>Random Forest 2nd Model Summary</h4>\n",
    "        <p>The 2nd Random Forest model achieved the goal of hitting over a 0.59 f1 score it acutally hit a 0.63 f1 score. we could get away with a n_estimator of 149. but we did achieve an acceptable number to give us enough confidence to take our model to the testing data the max depth being 8 is what was also specified.</p>\n",
    "</div>"
   ]
  },
  {
   "cell_type": "markdown",
   "metadata": {},
   "source": [
    "<div class=\"alert alert-info\">\n",
    "    <h3>Model Conclusion</h3>\n",
    "        <p>The best performing model was the Random Forest it did take a ton of time to process the data though. The Logistic Regression and the decision tree were not bad but the Random Forest did out perform them. the upsampling and the downsampling actually performed the weakest.</p>\n",
    "</div>"
   ]
  },
  {
   "cell_type": "markdown",
   "metadata": {},
   "source": [
    "<div class=\"alert alert-info\">\n",
    "    <h2>Final Testing</h2>\n",
    "        <p></p>\n",
    "</div>"
   ]
  },
  {
   "cell_type": "code",
   "execution_count": 22,
   "metadata": {},
   "outputs": [
    {
     "name": "stdout",
     "output_type": "stream",
     "text": [
      "Accuracy: 0.833125\n",
      "F1: 0.625414364640884\n",
      "AUC-ROC: 0.862405411439456\n"
     ]
    }
   ],
   "source": [
    "RandForestOpt_predicted_test = RandForestOpt.predict(feat_test)\n",
    "\n",
    "print('Accuracy:', RandForestOpt.score(feat_valid, targ_valid))\n",
    "print(\"F1:\", f1_score(targ_test, RandForestOpt_predicted_test))\n",
    "print(\"AUC-ROC:\", roc_auc_score(targ_test, RandForestOpt.predict_proba(feat_test)[:,1]))"
   ]
  },
  {
   "cell_type": "markdown",
   "metadata": {},
   "source": [
    "<div class=\"alert alert-info\">\n",
    "    <h3>Test Dataset</h3>\n",
    "        <p>The test dataset had a 0.83 in accuracy, a f1 score of 0.63 and a AUC ROC of 0.86</p>\n",
    "</div>"
   ]
  },
  {
   "cell_type": "markdown",
   "metadata": {},
   "source": [
    "<div class=\"alert alert-info\">\n",
    "    <h3>AUC-ROC Curve Plot</h3>\n",
    "        <p></p>\n",
    "</div>"
   ]
  },
  {
   "cell_type": "code",
   "execution_count": 23,
   "metadata": {},
   "outputs": [
    {
     "data": {
      "image/png": "[encoded data removed]",
      "text/plain": [
       "<Figure size 432x288 with 1 Axes>"
      ]
     },
     "metadata": {
      "needs_background": "light"
     },
     "output_type": "display_data"
    }
   ],
   "source": [
    "probabilities_valid = RandForestOpt.predict_proba(feat_valid)\n",
    "probabilities_one_valid = probabilities_valid[:, 1]\n",
    "\n",
    "fpr, tpr, thresholds = roc_curve(targ_valid, probabilities_one_valid)\n",
    "\n",
    "plt.figure()\n",
    "plt.plot(fpr, tpr)\n",
    "plt.plot([0, 1], [0, 1], linestyle='--')\n",
    "plt.xlim([0.0, 1.0])\n",
    "plt.ylim([0.0, 1.0])\n",
    "plt.xlabel('False Positive Rate')\n",
    "plt.ylabel('True Positive Rate')\n",
    "plt.title('ROC curve')\n",
    "plt.show()"
   ]
  },
  {
   "cell_type": "markdown",
   "metadata": {},
   "source": [
    "<div class=\"alert alert-info\">\n",
    "    <h4>AUC-ROC Curve Plot Summary</h4>\n",
    "        <p>We see a beautiful deviation under the true positive rate curve. the orange line or range model signifies that our model performs that much better than someone just working by chance. This is validated by the AUC we calculated as well.</p>\n",
    "</div>"
   ]
  },
  {
   "cell_type": "markdown",
   "metadata": {},
   "source": [
    "<div class=\"alert alert-info\">\n",
    "    <h3>Precision Recall Curve Plot</h3>\n",
    "        <p></p>\n",
    "</div>"
   ]
  },
  {
   "cell_type": "code",
   "execution_count": 24,
   "metadata": {},
   "outputs": [
    {
     "data": {
      "image/png": "[encoded data removed]",
      "text/plain": [
       "<Figure size 432x432 with 1 Axes>"
      ]
     },
     "metadata": {
      "needs_background": "light"
     },
     "output_type": "display_data"
    }
   ],
   "source": [
    "precision, recall, thresholds = precision_recall_curve(targ_valid, probabilities_valid[:, 1])\n",
    "\n",
    "plt.figure(figsize=(6, 6))\n",
    "plt.step(recall, precision, where='post')\n",
    "plt.xlabel('Recall')\n",
    "plt.ylabel('Precision')\n",
    "plt.ylim([0.0, 1.05])\n",
    "plt.xlim([0.0, 1.0])\n",
    "plt.title('Precision-Recall Curve')\n",
    "plt.show() "
   ]
  },
  {
   "cell_type": "markdown",
   "metadata": {},
   "source": [
    "<div class=\"alert alert-info\">\n",
    "    <h4>Precision RecallCurve Plot Summary</h4>\n",
    "        <p>The precision recall curve is very high. that signifies the high performance of the model. This along with the AUC-ROC and the F1 score all signify that we have provided the company with a good model to work with.</p>\n",
    "</div>"
   ]
  },
  {
   "cell_type": "markdown",
   "metadata": {},
   "source": [
    "<div class=\"alert alert-info\">\n",
    "    <h2>Final Conclusion</h2>\n",
    "        <p>The best model is the Random Forest Classifier. Bootstrap is set to true and the class weight parameter set to balanced. Setting it to balanced is very important otherwise the performance expectations are not met. The hyperparameters max-depth set to 8 and the n)estimator to 149 the random state = 42 is what gave me the results I produced. The test data set had a f1 score of 0.63 and the AUC of 0.86 these metrics mean good quality and meet the assignments expectations. I hope the model I did above helps the Beta-Bank in the way they need.</p>\n",
    "</div>"
   ]
  }
 ],
 "metadata": {
  "kernelspec": {
   "display_name": "Python 3 (ipykernel)",
   "language": "python",
   "name": "python3"
  },
  "language_info": {
   "codemirror_mode": {
    "name": "ipython",
    "version": 3
   },
   "file_extension": ".py",
   "mimetype": "text/x-python",
   "name": "python",
   "nbconvert_exporter": "python",
   "pygments_lexer": "ipython3",
   "version": "3.9.5"
  },
  "toc": {
   "base_numbering": 1,
   "nav_menu": {},
   "number_sections": true,
   "sideBar": true,
   "skip_h1_title": true,
   "title_cell": "Table of Contents",
   "title_sidebar": "Contents",
   "toc_cell": false,
   "toc_position": {},
   "toc_section_display": true,
   "toc_window_display": false
  }
 },
 "nbformat": 4,
 "nbformat_minor": 2
}
